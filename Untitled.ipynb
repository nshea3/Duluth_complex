{
 "cells": [
  {
   "cell_type": "code",
   "execution_count": 1,
   "metadata": {},
   "outputs": [],
   "source": [
    "import pandas as pd\n",
    "\n",
    "names = ['assay', 'collar', 'survey']\n",
    "files = ['Babbitt/assay_BABBITT.csv', 'Babbitt/collar_BABBITT.csv', 'Babbitt/survey_BABBITT.csv']\n",
    "\n",
    "babbitt_data = {}\n",
    "\n",
    "for name, file in zip(names, files):\n",
    "    babbitt_data[name] = pd.read_csv(file)"
   ]
  },
  {
   "cell_type": "code",
   "execution_count": 2,
   "metadata": {},
   "outputs": [
    {
     "data": {
      "text/html": [
       "<div>\n",
       "<style scoped>\n",
       "    .dataframe tbody tr th:only-of-type {\n",
       "        vertical-align: middle;\n",
       "    }\n",
       "\n",
       "    .dataframe tbody tr th {\n",
       "        vertical-align: top;\n",
       "    }\n",
       "\n",
       "    .dataframe thead th {\n",
       "        text-align: right;\n",
       "    }\n",
       "</style>\n",
       "<table border=\"1\" class=\"dataframe\">\n",
       "  <thead>\n",
       "    <tr style=\"text-align: right;\">\n",
       "      <th></th>\n",
       "      <th>BHID</th>\n",
       "      <th>XCOLLAR</th>\n",
       "      <th>YCOLLAR</th>\n",
       "      <th>ZCOLLAR</th>\n",
       "    </tr>\n",
       "  </thead>\n",
       "  <tbody>\n",
       "    <tr>\n",
       "      <th>0</th>\n",
       "      <td>34873</td>\n",
       "      <td>2296021.09</td>\n",
       "      <td>414095.85</td>\n",
       "      <td>1590.0</td>\n",
       "    </tr>\n",
       "    <tr>\n",
       "      <th>1</th>\n",
       "      <td>B1-001</td>\n",
       "      <td>2294148.20</td>\n",
       "      <td>420495.90</td>\n",
       "      <td>1620.9</td>\n",
       "    </tr>\n",
       "    <tr>\n",
       "      <th>2</th>\n",
       "      <td>B1-002</td>\n",
       "      <td>2296769.50</td>\n",
       "      <td>422333.50</td>\n",
       "      <td>1553.0</td>\n",
       "    </tr>\n",
       "    <tr>\n",
       "      <th>3</th>\n",
       "      <td>B1-003</td>\n",
       "      <td>2297820.11</td>\n",
       "      <td>423647.40</td>\n",
       "      <td>1565.0</td>\n",
       "    </tr>\n",
       "    <tr>\n",
       "      <th>4</th>\n",
       "      <td>B1-004</td>\n",
       "      <td>2298789.91</td>\n",
       "      <td>424357.51</td>\n",
       "      <td>1544.0</td>\n",
       "    </tr>\n",
       "    <tr>\n",
       "      <th>5</th>\n",
       "      <td>B1-005</td>\n",
       "      <td>2299166.09</td>\n",
       "      <td>423783.80</td>\n",
       "      <td>1528.0</td>\n",
       "    </tr>\n",
       "    <tr>\n",
       "      <th>6</th>\n",
       "      <td>B1-006</td>\n",
       "      <td>2296388.20</td>\n",
       "      <td>421454.09</td>\n",
       "      <td>1584.8</td>\n",
       "    </tr>\n",
       "    <tr>\n",
       "      <th>7</th>\n",
       "      <td>B1-007</td>\n",
       "      <td>2299545.90</td>\n",
       "      <td>423193.40</td>\n",
       "      <td>1545.0</td>\n",
       "    </tr>\n",
       "    <tr>\n",
       "      <th>8</th>\n",
       "      <td>B1-008</td>\n",
       "      <td>2298773.89</td>\n",
       "      <td>423649.00</td>\n",
       "      <td>1535.5</td>\n",
       "    </tr>\n",
       "    <tr>\n",
       "      <th>9</th>\n",
       "      <td>B1-009</td>\n",
       "      <td>2299448.39</td>\n",
       "      <td>424085.69</td>\n",
       "      <td>1531.4</td>\n",
       "    </tr>\n",
       "    <tr>\n",
       "      <th>10</th>\n",
       "      <td>B1-010</td>\n",
       "      <td>2298100.80</td>\n",
       "      <td>423215.10</td>\n",
       "      <td>1542.3</td>\n",
       "    </tr>\n",
       "    <tr>\n",
       "      <th>11</th>\n",
       "      <td>B1-011</td>\n",
       "      <td>2297431.71</td>\n",
       "      <td>422778.90</td>\n",
       "      <td>1575.3</td>\n",
       "    </tr>\n",
       "    <tr>\n",
       "      <th>12</th>\n",
       "      <td>B1-012</td>\n",
       "      <td>2297648.29</td>\n",
       "      <td>422442.60</td>\n",
       "      <td>1557.2</td>\n",
       "    </tr>\n",
       "    <tr>\n",
       "      <th>13</th>\n",
       "      <td>B1-013</td>\n",
       "      <td>2296979.20</td>\n",
       "      <td>422005.79</td>\n",
       "      <td>1573.7</td>\n",
       "    </tr>\n",
       "    <tr>\n",
       "      <th>14</th>\n",
       "      <td>B1-014</td>\n",
       "      <td>2296523.98</td>\n",
       "      <td>421240.60</td>\n",
       "      <td>1578.2</td>\n",
       "    </tr>\n",
       "    <tr>\n",
       "      <th>15</th>\n",
       "      <td>B1-015</td>\n",
       "      <td>2295636.09</td>\n",
       "      <td>421139.89</td>\n",
       "      <td>1579.6</td>\n",
       "    </tr>\n",
       "    <tr>\n",
       "      <th>16</th>\n",
       "      <td>B1-016</td>\n",
       "      <td>2294967.90</td>\n",
       "      <td>420697.79</td>\n",
       "      <td>1585.7</td>\n",
       "    </tr>\n",
       "    <tr>\n",
       "      <th>17</th>\n",
       "      <td>B1-017</td>\n",
       "      <td>2295852.99</td>\n",
       "      <td>420805.00</td>\n",
       "      <td>1585.9</td>\n",
       "    </tr>\n",
       "    <tr>\n",
       "      <th>18</th>\n",
       "      <td>B1-018</td>\n",
       "      <td>2295166.51</td>\n",
       "      <td>420391.10</td>\n",
       "      <td>1583.9</td>\n",
       "    </tr>\n",
       "    <tr>\n",
       "      <th>19</th>\n",
       "      <td>B1-019</td>\n",
       "      <td>2294289.21</td>\n",
       "      <td>420274.51</td>\n",
       "      <td>1612.3</td>\n",
       "    </tr>\n",
       "    <tr>\n",
       "      <th>20</th>\n",
       "      <td>B1-020</td>\n",
       "      <td>2293403.28</td>\n",
       "      <td>420175.41</td>\n",
       "      <td>1607.3</td>\n",
       "    </tr>\n",
       "    <tr>\n",
       "      <th>21</th>\n",
       "      <td>B1-021</td>\n",
       "      <td>2293620.62</td>\n",
       "      <td>419835.10</td>\n",
       "      <td>1613.9</td>\n",
       "    </tr>\n",
       "    <tr>\n",
       "      <th>22</th>\n",
       "      <td>B1-022</td>\n",
       "      <td>2293835.61</td>\n",
       "      <td>419504.90</td>\n",
       "      <td>1608.8</td>\n",
       "    </tr>\n",
       "    <tr>\n",
       "      <th>23</th>\n",
       "      <td>B1-023</td>\n",
       "      <td>2294509.88</td>\n",
       "      <td>419939.10</td>\n",
       "      <td>1592.2</td>\n",
       "    </tr>\n",
       "    <tr>\n",
       "      <th>24</th>\n",
       "      <td>B1-024</td>\n",
       "      <td>2294944.70</td>\n",
       "      <td>419269.29</td>\n",
       "      <td>1590.4</td>\n",
       "    </tr>\n",
       "    <tr>\n",
       "      <th>25</th>\n",
       "      <td>B1-025</td>\n",
       "      <td>2291774.21</td>\n",
       "      <td>418995.90</td>\n",
       "      <td>1606.5</td>\n",
       "    </tr>\n",
       "    <tr>\n",
       "      <th>26</th>\n",
       "      <td>B1-026</td>\n",
       "      <td>2292726.81</td>\n",
       "      <td>419740.09</td>\n",
       "      <td>1617.0</td>\n",
       "    </tr>\n",
       "    <tr>\n",
       "      <th>27</th>\n",
       "      <td>B1-027</td>\n",
       "      <td>2298732.09</td>\n",
       "      <td>422246.01</td>\n",
       "      <td>1543.4</td>\n",
       "    </tr>\n",
       "    <tr>\n",
       "      <th>28</th>\n",
       "      <td>B1-028</td>\n",
       "      <td>2293168.40</td>\n",
       "      <td>419063.39</td>\n",
       "      <td>1608.5</td>\n",
       "    </tr>\n",
       "    <tr>\n",
       "      <th>29</th>\n",
       "      <td>B1-029</td>\n",
       "      <td>2293614.81</td>\n",
       "      <td>418408.89</td>\n",
       "      <td>1591.9</td>\n",
       "    </tr>\n",
       "    <tr>\n",
       "      <th>...</th>\n",
       "      <td>...</td>\n",
       "      <td>...</td>\n",
       "      <td>...</td>\n",
       "      <td>...</td>\n",
       "    </tr>\n",
       "    <tr>\n",
       "      <th>369</th>\n",
       "      <td>B1-401</td>\n",
       "      <td>2290305.91</td>\n",
       "      <td>418252.89</td>\n",
       "      <td>1619.7</td>\n",
       "    </tr>\n",
       "    <tr>\n",
       "      <th>370</th>\n",
       "      <td>B1-402</td>\n",
       "      <td>2300955.29</td>\n",
       "      <td>424702.30</td>\n",
       "      <td>1535.2</td>\n",
       "    </tr>\n",
       "    <tr>\n",
       "      <th>371</th>\n",
       "      <td>B1-403</td>\n",
       "      <td>2289801.71</td>\n",
       "      <td>418263.21</td>\n",
       "      <td>1623.2</td>\n",
       "    </tr>\n",
       "    <tr>\n",
       "      <th>372</th>\n",
       "      <td>B1-404</td>\n",
       "      <td>2291015.60</td>\n",
       "      <td>418014.81</td>\n",
       "      <td>1602.0</td>\n",
       "    </tr>\n",
       "    <tr>\n",
       "      <th>373</th>\n",
       "      <td>B1-405</td>\n",
       "      <td>2290424.28</td>\n",
       "      <td>417384.41</td>\n",
       "      <td>1602.3</td>\n",
       "    </tr>\n",
       "    <tr>\n",
       "      <th>374</th>\n",
       "      <td>B1-406</td>\n",
       "      <td>2300738.09</td>\n",
       "      <td>425038.90</td>\n",
       "      <td>1535.9</td>\n",
       "    </tr>\n",
       "    <tr>\n",
       "      <th>375</th>\n",
       "      <td>B1-407</td>\n",
       "      <td>2289888.51</td>\n",
       "      <td>417502.19</td>\n",
       "      <td>1623.1</td>\n",
       "    </tr>\n",
       "    <tr>\n",
       "      <th>376</th>\n",
       "      <td>B1-408</td>\n",
       "      <td>2291211.39</td>\n",
       "      <td>417687.80</td>\n",
       "      <td>1612.5</td>\n",
       "    </tr>\n",
       "    <tr>\n",
       "      <th>377</th>\n",
       "      <td>B1-409</td>\n",
       "      <td>2299742.58</td>\n",
       "      <td>417724.51</td>\n",
       "      <td>1619.0</td>\n",
       "    </tr>\n",
       "    <tr>\n",
       "      <th>378</th>\n",
       "      <td>B1-410</td>\n",
       "      <td>2289535.20</td>\n",
       "      <td>417313.49</td>\n",
       "      <td>1621.2</td>\n",
       "    </tr>\n",
       "    <tr>\n",
       "      <th>379</th>\n",
       "      <td>B1-411</td>\n",
       "      <td>2289314.69</td>\n",
       "      <td>417651.59</td>\n",
       "      <td>1626.9</td>\n",
       "    </tr>\n",
       "    <tr>\n",
       "      <th>380</th>\n",
       "      <td>B1-412</td>\n",
       "      <td>2291884.39</td>\n",
       "      <td>418100.70</td>\n",
       "      <td>1607.4</td>\n",
       "    </tr>\n",
       "    <tr>\n",
       "      <th>381</th>\n",
       "      <td>B1-413</td>\n",
       "      <td>2289074.32</td>\n",
       "      <td>417351.89</td>\n",
       "      <td>1610.3</td>\n",
       "    </tr>\n",
       "    <tr>\n",
       "      <th>382</th>\n",
       "      <td>B1-414</td>\n",
       "      <td>2304078.00</td>\n",
       "      <td>421467.90</td>\n",
       "      <td>1561.9</td>\n",
       "    </tr>\n",
       "    <tr>\n",
       "      <th>383</th>\n",
       "      <td>B1-415</td>\n",
       "      <td>2288407.79</td>\n",
       "      <td>416816.30</td>\n",
       "      <td>1608.5</td>\n",
       "    </tr>\n",
       "    <tr>\n",
       "      <th>384</th>\n",
       "      <td>B1-416</td>\n",
       "      <td>2288406.79</td>\n",
       "      <td>416137.80</td>\n",
       "      <td>1594.1</td>\n",
       "    </tr>\n",
       "    <tr>\n",
       "      <th>385</th>\n",
       "      <td>B1-417</td>\n",
       "      <td>2288451.20</td>\n",
       "      <td>417552.71</td>\n",
       "      <td>1603.6</td>\n",
       "    </tr>\n",
       "    <tr>\n",
       "      <th>386</th>\n",
       "      <td>B1-418</td>\n",
       "      <td>2289548.49</td>\n",
       "      <td>418760.29</td>\n",
       "      <td>1618.5</td>\n",
       "    </tr>\n",
       "    <tr>\n",
       "      <th>387</th>\n",
       "      <td>B1-419</td>\n",
       "      <td>2289078.01</td>\n",
       "      <td>415916.60</td>\n",
       "      <td>1596.8</td>\n",
       "    </tr>\n",
       "    <tr>\n",
       "      <th>388</th>\n",
       "      <td>B1-420</td>\n",
       "      <td>2302737.10</td>\n",
       "      <td>423429.60</td>\n",
       "      <td>1562.5</td>\n",
       "    </tr>\n",
       "    <tr>\n",
       "      <th>389</th>\n",
       "      <td>B1-421</td>\n",
       "      <td>2300100.10</td>\n",
       "      <td>417952.49</td>\n",
       "      <td>1611.2</td>\n",
       "    </tr>\n",
       "    <tr>\n",
       "      <th>390</th>\n",
       "      <td>B1-429</td>\n",
       "      <td>2302283.91</td>\n",
       "      <td>424122.09</td>\n",
       "      <td>1538.6</td>\n",
       "    </tr>\n",
       "    <tr>\n",
       "      <th>391</th>\n",
       "      <td>B1-430</td>\n",
       "      <td>2303553.99</td>\n",
       "      <td>422069.30</td>\n",
       "      <td>1572.8</td>\n",
       "    </tr>\n",
       "    <tr>\n",
       "      <th>392</th>\n",
       "      <td>BA-1</td>\n",
       "      <td>2300885.43</td>\n",
       "      <td>414386.06</td>\n",
       "      <td>1595.0</td>\n",
       "    </tr>\n",
       "    <tr>\n",
       "      <th>393</th>\n",
       "      <td>BA-2</td>\n",
       "      <td>2306237.25</td>\n",
       "      <td>419584.65</td>\n",
       "      <td>1550.0</td>\n",
       "    </tr>\n",
       "    <tr>\n",
       "      <th>394</th>\n",
       "      <td>RMC-59029</td>\n",
       "      <td>2289148.97</td>\n",
       "      <td>417989.93</td>\n",
       "      <td>1602.6</td>\n",
       "    </tr>\n",
       "    <tr>\n",
       "      <th>395</th>\n",
       "      <td>RMC-65246</td>\n",
       "      <td>2294072.59</td>\n",
       "      <td>421970.50</td>\n",
       "      <td>1595.0</td>\n",
       "    </tr>\n",
       "    <tr>\n",
       "      <th>396</th>\n",
       "      <td>RMC-66225</td>\n",
       "      <td>2290684.77</td>\n",
       "      <td>417975.58</td>\n",
       "      <td>1600.1</td>\n",
       "    </tr>\n",
       "    <tr>\n",
       "      <th>397</th>\n",
       "      <td>RMC-66305</td>\n",
       "      <td>2294796.19</td>\n",
       "      <td>420737.60</td>\n",
       "      <td>1586.9</td>\n",
       "    </tr>\n",
       "    <tr>\n",
       "      <th>398</th>\n",
       "      <td>RMC-66313</td>\n",
       "      <td>2295276.24</td>\n",
       "      <td>420029.42</td>\n",
       "      <td>1587.7</td>\n",
       "    </tr>\n",
       "  </tbody>\n",
       "</table>\n",
       "<p>399 rows × 4 columns</p>\n",
       "</div>"
      ],
      "text/plain": [
       "          BHID     XCOLLAR    YCOLLAR  ZCOLLAR\n",
       "0        34873  2296021.09  414095.85   1590.0\n",
       "1       B1-001  2294148.20  420495.90   1620.9\n",
       "2       B1-002  2296769.50  422333.50   1553.0\n",
       "3       B1-003  2297820.11  423647.40   1565.0\n",
       "4       B1-004  2298789.91  424357.51   1544.0\n",
       "5       B1-005  2299166.09  423783.80   1528.0\n",
       "6       B1-006  2296388.20  421454.09   1584.8\n",
       "7       B1-007  2299545.90  423193.40   1545.0\n",
       "8       B1-008  2298773.89  423649.00   1535.5\n",
       "9       B1-009  2299448.39  424085.69   1531.4\n",
       "10      B1-010  2298100.80  423215.10   1542.3\n",
       "11      B1-011  2297431.71  422778.90   1575.3\n",
       "12      B1-012  2297648.29  422442.60   1557.2\n",
       "13      B1-013  2296979.20  422005.79   1573.7\n",
       "14      B1-014  2296523.98  421240.60   1578.2\n",
       "15      B1-015  2295636.09  421139.89   1579.6\n",
       "16      B1-016  2294967.90  420697.79   1585.7\n",
       "17      B1-017  2295852.99  420805.00   1585.9\n",
       "18      B1-018  2295166.51  420391.10   1583.9\n",
       "19      B1-019  2294289.21  420274.51   1612.3\n",
       "20      B1-020  2293403.28  420175.41   1607.3\n",
       "21      B1-021  2293620.62  419835.10   1613.9\n",
       "22      B1-022  2293835.61  419504.90   1608.8\n",
       "23      B1-023  2294509.88  419939.10   1592.2\n",
       "24      B1-024  2294944.70  419269.29   1590.4\n",
       "25      B1-025  2291774.21  418995.90   1606.5\n",
       "26      B1-026  2292726.81  419740.09   1617.0\n",
       "27      B1-027  2298732.09  422246.01   1543.4\n",
       "28      B1-028  2293168.40  419063.39   1608.5\n",
       "29      B1-029  2293614.81  418408.89   1591.9\n",
       "..         ...         ...        ...      ...\n",
       "369     B1-401  2290305.91  418252.89   1619.7\n",
       "370     B1-402  2300955.29  424702.30   1535.2\n",
       "371     B1-403  2289801.71  418263.21   1623.2\n",
       "372     B1-404  2291015.60  418014.81   1602.0\n",
       "373     B1-405  2290424.28  417384.41   1602.3\n",
       "374     B1-406  2300738.09  425038.90   1535.9\n",
       "375     B1-407  2289888.51  417502.19   1623.1\n",
       "376     B1-408  2291211.39  417687.80   1612.5\n",
       "377     B1-409  2299742.58  417724.51   1619.0\n",
       "378     B1-410  2289535.20  417313.49   1621.2\n",
       "379     B1-411  2289314.69  417651.59   1626.9\n",
       "380     B1-412  2291884.39  418100.70   1607.4\n",
       "381     B1-413  2289074.32  417351.89   1610.3\n",
       "382     B1-414  2304078.00  421467.90   1561.9\n",
       "383     B1-415  2288407.79  416816.30   1608.5\n",
       "384     B1-416  2288406.79  416137.80   1594.1\n",
       "385     B1-417  2288451.20  417552.71   1603.6\n",
       "386     B1-418  2289548.49  418760.29   1618.5\n",
       "387     B1-419  2289078.01  415916.60   1596.8\n",
       "388     B1-420  2302737.10  423429.60   1562.5\n",
       "389     B1-421  2300100.10  417952.49   1611.2\n",
       "390     B1-429  2302283.91  424122.09   1538.6\n",
       "391     B1-430  2303553.99  422069.30   1572.8\n",
       "392       BA-1  2300885.43  414386.06   1595.0\n",
       "393       BA-2  2306237.25  419584.65   1550.0\n",
       "394  RMC-59029  2289148.97  417989.93   1602.6\n",
       "395  RMC-65246  2294072.59  421970.50   1595.0\n",
       "396  RMC-66225  2290684.77  417975.58   1600.1\n",
       "397  RMC-66305  2294796.19  420737.60   1586.9\n",
       "398  RMC-66313  2295276.24  420029.42   1587.7\n",
       "\n",
       "[399 rows x 4 columns]"
      ]
     },
     "execution_count": 2,
     "metadata": {},
     "output_type": "execute_result"
    }
   ],
   "source": [
    "babbitt_data['collar']"
   ]
  },
  {
   "cell_type": "code",
   "execution_count": 3,
   "metadata": {},
   "outputs": [
    {
     "data": {
      "text/plain": [
       "<mpl_toolkits.mplot3d.art3d.Path3DCollection at 0x1fbeb98f048>"
      ]
     },
     "execution_count": 3,
     "metadata": {},
     "output_type": "execute_result"
    },
    {
     "data": {
      "image/png": "[encoded data removed]",
      "text/plain": [
       "<Figure size 432x288 with 1 Axes>"
      ]
     },
     "metadata": {
      "needs_background": "light"
     },
     "output_type": "display_data"
    }
   ],
   "source": [
    "%matplotlib inline\n",
    "import numpy as np\n",
    "import matplotlib.pyplot as plt\n",
    "\n",
    "from mpl_toolkits import mplot3d\n",
    "\n",
    "fig = plt.figure()\n",
    "ax = plt.axes(projection='3d')\n",
    "ax.scatter3D(babbitt_data['collar']['XCOLLAR'], babbitt_data['collar']['YCOLLAR'], babbitt_data['collar']['ZCOLLAR'])"
   ]
  },
  {
   "cell_type": "code",
   "execution_count": 4,
   "metadata": {},
   "outputs": [],
   "source": [
    "import plotly.express as px"
   ]
  },
  {
   "cell_type": "code",
   "execution_count": 7,
   "metadata": {},
   "outputs": [
    {
     "data": {
      "application/vnd.plotly.v1+json": {
       "config": {
        "plotlyServerURL": "https://plot.ly"
       },
       "data": [
        {
         "hoverlabel": {
          "namelength": 0
         },
         "hovertemplate": "XCOLLAR=%{x}<br>YCOLLAR=%{y}<br>ZCOLLAR=%{z}",
         "legendgroup": "",
         "marker": {
          "color": "#636efa",
          "symbol": "circle"
         },
         "mode": "markers",
         "name": "",
         "scene": "scene",
         "showlegend": false,
         "type": "scatter3d",
         "x": [
          2296021.09,
          2294148.2,
          2296769.5,
          2297820.11,
          2298789.91,
          2299166.09,
          2296388.2,
          2299545.9,
          2298773.89,
          2299448.39,
          2298100.8,
          2297431.71,
          2297648.29,
          2296979.2,
          2296523.98,
          2295636.09,
          2294967.9,
          2295852.99,
          2295166.51,
          2294289.21,
          2293403.28,
          2293620.62,
          2293835.61,
          2294509.88,
          2294944.7,
          2291774.21,
          2292726.81,
          2298732.09,
          2293168.4,
          2293614.81,
          2297623.01,
          2291751.6,
          2300326.11,
          2291938,
          2299504.3,
          2299227.89,
          2301570.71,
          2294040.9,
          2292485.1,
          2291828.4,
          2292676.11,
          2300336.48,
          2299667.39,
          2298663.9,
          2298502.51,
          2298988.89,
          2298324.9,
          2300124.4,
          2300559.21,
          2290188.31,
          2292850.41,
          2291879.09,
          2290197.11,
          2294760.31,
          2289427.79,
          2297418.89,
          2299699.7,
          2303238,
          2293869.3,
          2297252.59,
          2295147.99,
          2295148.08,
          2300443,
          2293813,
          2293813.1,
          2290955.91,
          2294478.71,
          2295319,
          2292709.59,
          2294277.7,
          2292901.6,
          2294703.59,
          2293333.79,
          2295301.39,
          2295922.81,
          2296023.69,
          2295600.81,
          2292029.8,
          2296811.81,
          2296811.94,
          2296811.94,
          2295792.19,
          2295497.69,
          2292226.81,
          2301192.39,
          2301130.51,
          2290559.81,
          2299116.6,
          2299625.3,
          2298166.99,
          2298788.89,
          2298329.51,
          2298674.29,
          2297959,
          2295619.71,
          2300932.4,
          2299185.19,
          2300407.69,
          2300407.69,
          2302430.5,
          2302189.92,
          2300704.8,
          2303102.3,
          2289986.71,
          2301575.1,
          2289866.92,
          2290407.8,
          2301786.01,
          2303990.51,
          2301328.9,
          2300447.69,
          2302003.99,
          2300893.99,
          2300230.69,
          2301002.59,
          2301452.99,
          2301228.91,
          2301674,
          2301011.49,
          2300783,
          2301561.39,
          2300665.7,
          2300681.7,
          2302232.69,
          2299568.81,
          2302782.6,
          2301345.1,
          2298680.79,
          2302107.68,
          2299689.99,
          2301901.7,
          2297799.19,
          2301681.39,
          2302355.2,
          2301117.9,
          2302614.09,
          2300881.59,
          2302770.1,
          2301231.3,
          2301451.9,
          2301230.71,
          2300566.89,
          2300345.89,
          2301826.11,
          2290535.49,
          2290754.09,
          2294202.81,
          2289641.81,
          2298983.8,
          2296880.51,
          2302125.21,
          2297565.71,
          2297565.71,
          2299762.11,
          2289002.19,
          2288894.12,
          2300494,
          2288595.31,
          2289936.78,
          2289425.11,
          2289757.49,
          2301651.51,
          2297340.9,
          2290367.69,
          2300404.2,
          2288965.69,
          2289640.71,
          2288574.9,
          2288231.4,
          2292038.4,
          2299906.79,
          2293332.41,
          2296297.61,
          2301266.5,
          2298694.21,
          2296542.99,
          2299071.79,
          2300930.48,
          2300049.2,
          2297084.02,
          2299540.3,
          2300463.82,
          2300757.19,
          2296260.3,
          2301235.11,
          2299356.81,
          2301804.89,
          2296619.91,
          2299862.59,
          2301889.99,
          2302476.41,
          2299030.3,
          2302335.12,
          2301370.9,
          2302237.51,
          2300110.51,
          2302859.89,
          2300812.81,
          2299311.09,
          2303342.1,
          2301672.99,
          2301468.7,
          2302057.2,
          2302455.1,
          2298871.09,
          2302021.69,
          2300130.01,
          2301895.3,
          2301458.3,
          2301687.91,
          2302141.31,
          2302361.6,
          2301580.98,
          2301465.6,
          2301298.61,
          2301913.41,
          2302574.01,
          2301609.3,
          2301716.92,
          2302572.19,
          2301105.21,
          2300642.91,
          2298176.38,
          2294640.2,
          2302258.58,
          2294794.5,
          2300241.9,
          2294164.12,
          2300808.29,
          2302808.21,
          2294340.61,
          2295466.62,
          2293903.59,
          2294058.31,
          2294721.7,
          2300681.28,
          2295420.49,
          2295710.51,
          2295023.49,
          2300351.39,
          2296905.21,
          2295241.81,
          2300524.99,
          2296692.41,
          2295632.69,
          2297118.8,
          2299956.51,
          2291935.2,
          2291948.81,
          2293800.21,
          2296168.48,
          2297196.59,
          2293794.49,
          2297264.21,
          2293382.7,
          2292959.8,
          2296964.78,
          2297415.59,
          2301132.89,
          2292279.28,
          2300173.71,
          2296377.81,
          2295895.72,
          2296077.9,
          2300888.99,
          2299997.81,
          2296582.8,
          2298679.39,
          2299576.4,
          2295210.5,
          2295891.31,
          2299542.6,
          2294991.8,
          2300149.81,
          2297846.3,
          2293041.3,
          2296131.1,
          2296545.3,
          2293038.71,
          2296854.5,
          2298643.89,
          2294769.9,
          2298538.9,
          2298432.79,
          2299334.89,
          2297543.6,
          2297544.82,
          2297543.16,
          2297534.32,
          2297557.96,
          2297554.99,
          2297547.46,
          2297989.41,
          2295238.39,
          2298207.79,
          2298252.32,
          2297789.6,
          2301121.31,
          2295072.49,
          2298884.29,
          2296332.51,
          2295016.99,
          2298525.01,
          2297125.3,
          2294246.21,
          2294479.18,
          2298387.89,
          2296651.9,
          2292346.3,
          2297994.59,
          2298219.42,
          2297844.81,
          2292712.2,
          2298212.8,
          2299383.19,
          2292486.69,
          2299623.2,
          2299836.01,
          2299369.01,
          2292484.19,
          2299003.81,
          2299267.11,
          2292844.91,
          2299085.1,
          2301019.4,
          2295956.71,
          2295071.41,
          2297856.1,
          2295715.49,
          2294225.7,
          2297949.49,
          2297437.1,
          2294098.01,
          2294322.89,
          2293523.89,
          2293178.69,
          2293880.89,
          2297100.99,
          2294571.08,
          2293421.82,
          2297265.09,
          2293656.19,
          2291658.41,
          2291443.61,
          2297090.7,
          2297379.51,
          2298158.99,
          2297629.58,
          2298801.31,
          2297464.5,
          2298373.39,
          2298031,
          2297915.81,
          2299320.7,
          2299993.59,
          2297191.31,
          2300064.8,
          2299715.71,
          2298339.7,
          2300391.38,
          2297669.39,
          2299092.71,
          2297897.68,
          2300158.79,
          2299604.59,
          2298797.09,
          2300713.9,
          2296777.28,
          2290759.3,
          2290305.91,
          2300955.29,
          2289801.71,
          2291015.6,
          2290424.28,
          2300738.09,
          2289888.51,
          2291211.39,
          2299742.58,
          2289535.2,
          2289314.69,
          2291884.39,
          2289074.32,
          2304078,
          2288407.79,
          2288406.79,
          2288451.2,
          2289548.49,
          2289078.01,
          2302737.1,
          2300100.1,
          2302283.91,
          2303553.99,
          2300885.43,
          2306237.25,
          2289148.97,
          2294072.59,
          2290684.77,
          2294796.19,
          2295276.24
         ],
         "y": [
          414095.85,
          420495.9,
          422333.5,
          423647.4,
          424357.51,
          423783.8,
          421454.09,
          423193.4,
          423649,
          424085.69,
          423215.1,
          422778.9,
          422442.6,
          422005.79,
          421240.6,
          421139.89,
          420697.79,
          420805,
          420391.1,
          420274.51,
          420175.41,
          419835.1,
          419504.9,
          419939.1,
          419269.29,
          418995.9,
          419740.09,
          422246.01,
          419063.39,
          418408.89,
          421020.5,
          419021.79,
          422733.61,
          416487.09,
          423999.19,
          424420.61,
          424896.11,
          417713.89,
          418624.72,
          416650.79,
          416844.71,
          424184.1,
          423751,
          423816.11,
          424065.39,
          423314.1,
          422872.31,
          424526.29,
          423856.61,
          417724.99,
          420290.7,
          415188.71,
          415681.69,
          416886,
          416408.29,
          418546.29,
          420543.51,
          422691.29,
          413722.81,
          416107.4,
          418981.01,
          418981.01,
          424972.61,
          418054.81,
          418054.81,
          417280.8,
          418485.81,
          418580.69,
          418281.6,
          418820.2,
          417935.29,
          418127.41,
          417265.7,
          417045.71,
          417522.99,
          419042.1,
          419743.6,
          417852.22,
          419520.89,
          419520.86,
          419520.86,
          419401,
          418231.21,
          417542.5,
          421524.2,
          418592.89,
          416555.01,
          424228.29,
          424189.49,
          420071.8,
          423991.09,
          423598.39,
          423063.99,
          422724.8,
          420355.01,
          418565.91,
          418399.7,
          416698.99,
          416698.99,
          419477.4,
          418332.9,
          419692.01,
          419865.89,
          416016,
          419396.62,
          415463.19,
          415382.1,
          419050.59,
          419288.9,
          418286.49,
          418169.9,
          418717.61,
          418947.21,
          418503.91,
          418056.18,
          418836.19,
          419164.11,
          418496.81,
          419496.21,
          418388.22,
          417947.49,
          417836.89,
          419273.22,
          419819.9,
          419504.69,
          419706.5,
          419717.02,
          419401.41,
          419285.89,
          420052.41,
          419605.3,
          419304.9,
          419939.69,
          418949.79,
          420044.01,
          419241.21,
          419902.99,
          419458.99,
          419881.6,
          419557.41,
          418804.29,
          418725.01,
          419058.51,
          418217.69,
          415893.8,
          415561.11,
          416021.11,
          415800,
          417496.21,
          417125.6,
          420710.2,
          416558.51,
          416558.51,
          424407.9,
          417126.29,
          416719.19,
          420597.8,
          416998.61,
          417154.81,
          416892.61,
          416607.39,
          423119.61,
          419986.1,
          416978.7,
          420068,
          416347.39,
          414483.98,
          416611.39,
          416396.51,
          416348.41,
          421338.42,
          416265.31,
          420121.91,
          423995.21,
          420849.48,
          419788.8,
          420258.49,
          423270.19,
          420334.91,
          419201.59,
          422467.9,
          421056.09,
          422062.09,
          418696.31,
          420589.3,
          421281.11,
          421915.91,
          418334.11,
          421970.09,
          420310.39,
          422350.7,
          421790.99,
          420351.52,
          422584.41,
          421247.71,
          419368.01,
          420463,
          420318.31,
          420008.39,
          421009.89,
          420647.61,
          420291.39,
          420054.1,
          420909.7,
          420553,
          421580.99,
          420817.31,
          421031,
          420979.19,
          421368.89,
          422143.32,
          421800.92,
          422265.4,
          421706.49,
          421993.21,
          422456.7,
          421461.99,
          421999,
          422798.9,
          420047.89,
          420850.21,
          421529.99,
          417213.9,
          420476.99,
          422689.69,
          420202.01,
          421384.61,
          419807.11,
          421267.89,
          421092.2,
          419434.4,
          420660.09,
          420124.91,
          419177.6,
          419600.69,
          420714.31,
          419252.5,
          420973.61,
          419909.4,
          421942.59,
          420647.21,
          419592.99,
          422406.9,
          420980.7,
          418897.29,
          420330.3,
          417381.11,
          419363.49,
          419376.2,
          420354.19,
          420435.29,
          421673.19,
          420363.7,
          419443.78,
          418730.2,
          419395.11,
          419800.19,
          421335.71,
          421428.59,
          418966.28,
          417046.09,
          419334.31,
          418546.32,
          419636.3,
          421857.1,
          421760.71,
          418994.28,
          416496.7,
          420946.48,
          418072.59,
          419977.7,
          421728.11,
          418452.8,
          422281.99,
          420666.91,
          419994.31,
          421131.69,
          420441.11,
          419998.31,
          421461.5,
          417964.39,
          418795.29,
          422544.99,
          421226.91,
          416955.42,
          422614.81,
          422615.83,
          422624.03,
          422610.24,
          422605.35,
          422617.16,
          422605,
          422660,
          420282.9,
          418639.39,
          421513.41,
          422953.99,
          417175.21,
          420540.81,
          416181.91,
          420743.09,
          420625.89,
          423315.59,
          421113.89,
          420354.59,
          420714,
          423522.5,
          421780.89,
          419597.29,
          423377.92,
          423766.2,
          422151.89,
          419769.5,
          423043.29,
          423446.29,
          419398.61,
          424557.19,
          424212.51,
          424211.3,
          419402.42,
          424036.49,
          423601.42,
          419572.39,
          423908.59,
          422395.81,
          416222.91,
          416125.09,
          418445.4,
          415112.4,
          415989.11,
          416068.69,
          419085.01,
          418367.2,
          418032.58,
          419993.6,
          419785.71,
          418699.3,
          418877.3,
          419104.09,
          420157.61,
          415646.29,
          419047.51,
          418448.11,
          418781.1,
          422572.89,
          422134.79,
          422419,
          421727.98,
          422726.81,
          420517.29,
          422090.01,
          421860.5,
          421278.69,
          422810.89,
          423248.4,
          420834.19,
          424601.29,
          423669.91,
          420656.91,
          423373.6,
          420203.71,
          423144.91,
          419862.11,
          423736,
          423104.41,
          421414.61,
          424329.1,
          420113,
          418369.5,
          418252.89,
          424702.3,
          418263.21,
          418014.81,
          417384.41,
          425038.9,
          417502.19,
          417687.8,
          417724.51,
          417313.49,
          417651.59,
          418100.7,
          417351.89,
          421467.9,
          416816.3,
          416137.8,
          417552.71,
          418760.29,
          415916.6,
          423429.6,
          417952.49,
          424122.09,
          422069.3,
          414386.06,
          419584.65,
          417989.93,
          421970.5,
          417975.58,
          420737.6,
          420029.42
         ],
         "z": [
          1590,
          1620.9,
          1553,
          1565,
          1544,
          1528,
          1584.8,
          1545,
          1535.5,
          1531.4,
          1542.3,
          1575.3,
          1557.2,
          1573.7,
          1578.2,
          1579.6,
          1585.7,
          1585.9,
          1583.9,
          1612.3,
          1607.3,
          1613.9,
          1608.8,
          1592.2,
          1590.4,
          1606.5,
          1617,
          1543.4,
          1608.5,
          1591.9,
          1563.2,
          1607,
          1567.2,
          1597.9,
          1529.5,
          1548,
          1528,
          1593.1,
          1604.2,
          1599.4,
          1598,
          1531,
          1530,
          1540,
          1558,
          1538,
          1538.7,
          1535.4,
          1528.8,
          1624,
          1606,
          1602,
          1596,
          1596,
          1613,
          1601,
          1589,
          1547.1,
          1600,
          1609,
          1595.3,
          1595.3,
          1552,
          1592.5,
          1592.5,
          1601,
          1591.8,
          1597.7,
          1593.1,
          1591.1,
          1601.5,
          1591.9,
          1601.5,
          1597,
          1597.3,
          1594.9,
          1595.2,
          1604.6,
          1589,
          1589,
          1589,
          1597.9,
          1609.4,
          1611.2,
          1597,
          1611,
          1603,
          1535,
          1535,
          1581,
          1533,
          1557,
          1531,
          1551.4,
          1588.8,
          1604,
          1598,
          1613,
          1613,
          1588,
          1624,
          1589,
          1564,
          1597,
          1590,
          1596,
          1600,
          1602,
          1586,
          1615,
          1605,
          1606,
          1602,
          1596.6,
          1616,
          1601,
          1602,
          1610,
          1587,
          1605,
          1621,
          1613,
          1587,
          1574,
          1588.2,
          1566,
          1585,
          1585,
          1584.1,
          1584,
          1577.7,
          1597.2,
          1594.3,
          1599,
          1589,
          1579.6,
          1586,
          1586,
          1584,
          1584,
          1604,
          1594.8,
          1588.9,
          1633,
          1595.5,
          1603.6,
          1604.9,
          1596,
          1602.9,
          1593.1,
          1597.8,
          1617.2,
          1617.2,
          1529.5,
          1611,
          1618,
          1588.5,
          1606,
          1621,
          1610,
          1604,
          1569.3,
          1578,
          1598,
          1586.5,
          1619,
          1602,
          1599.2,
          1599.6,
          1597.7,
          1609.2,
          1596,
          1589.1,
          1528.2,
          1581.4,
          1584.7,
          1586.3,
          1563.4,
          1586.6,
          1589.5,
          1562.5,
          1586,
          1568.9,
          1590.6,
          1595.1,
          1580.9,
          1595,
          1594,
          1588,
          1590,
          1589,
          1566,
          1579.6,
          1573,
          1597,
          1586,
          1581,
          1587,
          1599,
          1559,
          1590,
          1594,
          1586,
          1588,
          1583.1,
          1598,
          1598,
          1589,
          1589,
          1591.8,
          1596,
          1595.9,
          1580,
          1601.8,
          1585,
          1575,
          1591,
          1596,
          1576,
          1572.4,
          1590.1,
          1586.9,
          1593.8,
          1589.5,
          1574.1,
          1589.2,
          1600.4,
          1598.1,
          1586.6,
          1571.8,
          1599.3,
          1581.4,
          1610.1,
          1602.9,
          1589.9,
          1588.7,
          1595.5,
          1579,
          1586,
          1587.1,
          1576.5,
          1588.8,
          1570.8,
          1570,
          1599.5,
          1579.6,
          1611.2,
          1609.5,
          1610.1,
          1610.8,
          1593,
          1564.7,
          1609.5,
          1589.8,
          1609.7,
          1604.7,
          1583.2,
          1560.1,
          1596.6,
          1603.3,
          1606.9,
          1591.5,
          1604.4,
          1602.4,
          1584.5,
          1594.6,
          1590.5,
          1608,
          1592.1,
          1610,
          1595.4,
          1591.5,
          1606.4,
          1574.7,
          1579.7,
          1610.7,
          1583.3,
          1577.3,
          1611.8,
          1571,
          1607,
          1592.7,
          1550.6,
          1562.7,
          1608.7,
          1564.8,
          1563.3,
          1564.2,
          1563.2,
          1562.9,
          1563.2,
          1562.2,
          1553.9,
          1584.2,
          1589.7,
          1553.4,
          1545.8,
          1633.3,
          1589,
          1607.7,
          1578.1,
          1588.2,
          1529.8,
          1571.3,
          1613.7,
          1591.5,
          1548.8,
          1584.8,
          1612.3,
          1545.7,
          1566.1,
          1562.4,
          1619.8,
          1536.1,
          1531.2,
          1609.6,
          1530.5,
          1530.7,
          1531.8,
          1609.7,
          1531.8,
          1529,
          1603,
          1528.5,
          1567.3,
          1596.3,
          1597.4,
          1590.4,
          1595.6,
          1597.6,
          1595.1,
          1597.8,
          1592,
          1594.5,
          1608.7,
          1608.2,
          1590.4,
          1598.6,
          1590.4,
          1609,
          1599.5,
          1610.3,
          1600.8,
          1605,
          1565.6,
          1573.3,
          1560.8,
          1565.2,
          1543.1,
          1573.8,
          1552.2,
          1558.7,
          1560.3,
          1550.5,
          1555.8,
          1576.2,
          1532.3,
          1533.8,
          1590,
          1542.8,
          1578.4,
          1541.4,
          1583.4,
          1532.9,
          1554.6,
          1559.2,
          1528.3,
          1579.4,
          1623.1,
          1619.7,
          1535.2,
          1623.2,
          1602,
          1602.3,
          1535.9,
          1623.1,
          1612.5,
          1619,
          1621.2,
          1626.9,
          1607.4,
          1610.3,
          1561.9,
          1608.5,
          1594.1,
          1603.6,
          1618.5,
          1596.8,
          1562.5,
          1611.2,
          1538.6,
          1572.8,
          1595,
          1550,
          1602.6,
          1595,
          1600.1,
          1586.9,
          1587.7
         ]
        }
       ],
       "layout": {
        "height": 600,
        "legend": {
         "tracegroupgap": 0
        },
        "margin": {
         "t": 60
        },
        "scene": {
         "domain": {
          "x": [
           0,
           0.98
          ],
          "y": [
           0,
           1
          ]
         },
         "xaxis": {
          "title": {
           "text": "XCOLLAR"
          }
         },
         "yaxis": {
          "title": {
           "text": "YCOLLAR"
          }
         },
         "zaxis": {
          "title": {
           "text": "ZCOLLAR"
          }
         }
        },
        "template": {
         "data": {
          "bar": [
           {
            "error_x": {
             "color": "#2a3f5f"
            },
            "error_y": {
             "color": "#2a3f5f"
            },
            "marker": {
             "line": {
              "color": "#E5ECF6",
              "width": 0.5
             }
            },
            "type": "bar"
           }
          ],
          "barpolar": [
           {
            "marker": {
             "line": {
              "color": "#E5ECF6",
              "width": 0.5
             }
            },
            "type": "barpolar"
           }
          ],
          "carpet": [
           {
            "aaxis": {
             "endlinecolor": "#2a3f5f",
             "gridcolor": "white",
             "linecolor": "white",
             "minorgridcolor": "white",
             "startlinecolor": "#2a3f5f"
            },
            "baxis": {
             "endlinecolor": "#2a3f5f",
             "gridcolor": "white",
             "linecolor": "white",
             "minorgridcolor": "white",
             "startlinecolor": "#2a3f5f"
            },
            "type": "carpet"
           }
          ],
          "choropleth": [
           {
            "colorbar": {
             "outlinewidth": 0,
             "ticks": ""
            },
            "type": "choropleth"
           }
          ],
          "contour": [
           {
            "colorbar": {
             "outlinewidth": 0,
             "ticks": ""
            },
            "colorscale": [
             [
              0,
              "#0d0887"
             ],
             [
              0.1111111111111111,
              "#46039f"
             ],
             [
              0.2222222222222222,
              "#7201a8"
             ],
             [
              0.3333333333333333,
              "#9c179e"
             ],
             [
              0.4444444444444444,
              "#bd3786"
             ],
             [
              0.5555555555555556,
              "#d8576b"
             ],
             [
              0.6666666666666666,
              "#ed7953"
             ],
             [
              0.7777777777777778,
              "#fb9f3a"
             ],
             [
              0.8888888888888888,
              "#fdca26"
             ],
             [
              1,
              "#f0f921"
             ]
            ],
            "type": "contour"
           }
          ],
          "contourcarpet": [
           {
            "colorbar": {
             "outlinewidth": 0,
             "ticks": ""
            },
            "type": "contourcarpet"
           }
          ],
          "heatmap": [
           {
            "colorbar": {
             "outlinewidth": 0,
             "ticks": ""
            },
            "colorscale": [
             [
              0,
              "#0d0887"
             ],
             [
              0.1111111111111111,
              "#46039f"
             ],
             [
              0.2222222222222222,
              "#7201a8"
             ],
             [
              0.3333333333333333,
              "#9c179e"
             ],
             [
              0.4444444444444444,
              "#bd3786"
             ],
             [
              0.5555555555555556,
              "#d8576b"
             ],
             [
              0.6666666666666666,
              "#ed7953"
             ],
             [
              0.7777777777777778,
              "#fb9f3a"
             ],
             [
              0.8888888888888888,
              "#fdca26"
             ],
             [
              1,
              "#f0f921"
             ]
            ],
            "type": "heatmap"
           }
          ],
          "heatmapgl": [
           {
            "colorbar": {
             "outlinewidth": 0,
             "ticks": ""
            },
            "colorscale": [
             [
              0,
              "#0d0887"
             ],
             [
              0.1111111111111111,
              "#46039f"
             ],
             [
              0.2222222222222222,
              "#7201a8"
             ],
             [
              0.3333333333333333,
              "#9c179e"
             ],
             [
              0.4444444444444444,
              "#bd3786"
             ],
             [
              0.5555555555555556,
              "#d8576b"
             ],
             [
              0.6666666666666666,
              "#ed7953"
             ],
             [
              0.7777777777777778,
              "#fb9f3a"
             ],
             [
              0.8888888888888888,
              "#fdca26"
             ],
             [
              1,
              "#f0f921"
             ]
            ],
            "type": "heatmapgl"
           }
          ],
          "histogram": [
           {
            "marker": {
             "colorbar": {
              "outlinewidth": 0,
              "ticks": ""
             }
            },
            "type": "histogram"
           }
          ],
          "histogram2d": [
           {
            "colorbar": {
             "outlinewidth": 0,
             "ticks": ""
            },
            "colorscale": [
             [
              0,
              "#0d0887"
             ],
             [
              0.1111111111111111,
              "#46039f"
             ],
             [
              0.2222222222222222,
              "#7201a8"
             ],
             [
              0.3333333333333333,
              "#9c179e"
             ],
             [
              0.4444444444444444,
              "#bd3786"
             ],
             [
              0.5555555555555556,
              "#d8576b"
             ],
             [
              0.6666666666666666,
              "#ed7953"
             ],
             [
              0.7777777777777778,
              "#fb9f3a"
             ],
             [
              0.8888888888888888,
              "#fdca26"
             ],
             [
              1,
              "#f0f921"
             ]
            ],
            "type": "histogram2d"
           }
          ],
          "histogram2dcontour": [
           {
            "colorbar": {
             "outlinewidth": 0,
             "ticks": ""
            },
            "colorscale": [
             [
              0,
              "#0d0887"
             ],
             [
              0.1111111111111111,
              "#46039f"
             ],
             [
              0.2222222222222222,
              "#7201a8"
             ],
             [
              0.3333333333333333,
              "#9c179e"
             ],
             [
              0.4444444444444444,
              "#bd3786"
             ],
             [
              0.5555555555555556,
              "#d8576b"
             ],
             [
              0.6666666666666666,
              "#ed7953"
             ],
             [
              0.7777777777777778,
              "#fb9f3a"
             ],
             [
              0.8888888888888888,
              "#fdca26"
             ],
             [
              1,
              "#f0f921"
             ]
            ],
            "type": "histogram2dcontour"
           }
          ],
          "mesh3d": [
           {
            "colorbar": {
             "outlinewidth": 0,
             "ticks": ""
            },
            "type": "mesh3d"
           }
          ],
          "parcoords": [
           {
            "line": {
             "colorbar": {
              "outlinewidth": 0,
              "ticks": ""
             }
            },
            "type": "parcoords"
           }
          ],
          "scatter": [
           {
            "marker": {
             "colorbar": {
              "outlinewidth": 0,
              "ticks": ""
             }
            },
            "type": "scatter"
           }
          ],
          "scatter3d": [
           {
            "line": {
             "colorbar": {
              "outlinewidth": 0,
              "ticks": ""
             }
            },
            "marker": {
             "colorbar": {
              "outlinewidth": 0,
              "ticks": ""
             }
            },
            "type": "scatter3d"
           }
          ],
          "scattercarpet": [
           {
            "marker": {
             "colorbar": {
              "outlinewidth": 0,
              "ticks": ""
             }
            },
            "type": "scattercarpet"
           }
          ],
          "scattergeo": [
           {
            "marker": {
             "colorbar": {
              "outlinewidth": 0,
              "ticks": ""
             }
            },
            "type": "scattergeo"
           }
          ],
          "scattergl": [
           {
            "marker": {
             "colorbar": {
              "outlinewidth": 0,
              "ticks": ""
             }
            },
            "type": "scattergl"
           }
          ],
          "scattermapbox": [
           {
            "marker": {
             "colorbar": {
              "outlinewidth": 0,
              "ticks": ""
             }
            },
            "type": "scattermapbox"
           }
          ],
          "scatterpolar": [
           {
            "marker": {
             "colorbar": {
              "outlinewidth": 0,
              "ticks": ""
             }
            },
            "type": "scatterpolar"
           }
          ],
          "scatterpolargl": [
           {
            "marker": {
             "colorbar": {
              "outlinewidth": 0,
              "ticks": ""
             }
            },
            "type": "scatterpolargl"
           }
          ],
          "scatterternary": [
           {
            "marker": {
             "colorbar": {
              "outlinewidth": 0,
              "ticks": ""
             }
            },
            "type": "scatterternary"
           }
          ],
          "surface": [
           {
            "colorbar": {
             "outlinewidth": 0,
             "ticks": ""
            },
            "colorscale": [
             [
              0,
              "#0d0887"
             ],
             [
              0.1111111111111111,
              "#46039f"
             ],
             [
              0.2222222222222222,
              "#7201a8"
             ],
             [
              0.3333333333333333,
              "#9c179e"
             ],
             [
              0.4444444444444444,
              "#bd3786"
             ],
             [
              0.5555555555555556,
              "#d8576b"
             ],
             [
              0.6666666666666666,
              "#ed7953"
             ],
             [
              0.7777777777777778,
              "#fb9f3a"
             ],
             [
              0.8888888888888888,
              "#fdca26"
             ],
             [
              1,
              "#f0f921"
             ]
            ],
            "type": "surface"
           }
          ],
          "table": [
           {
            "cells": {
             "fill": {
              "color": "#EBF0F8"
             },
             "line": {
              "color": "white"
             }
            },
            "header": {
             "fill": {
              "color": "#C8D4E3"
             },
             "line": {
              "color": "white"
             }
            },
            "type": "table"
           }
          ]
         },
         "layout": {
          "annotationdefaults": {
           "arrowcolor": "#2a3f5f",
           "arrowhead": 0,
           "arrowwidth": 1
          },
          "colorscale": {
           "diverging": [
            [
             0,
             "#8e0152"
            ],
            [
             0.1,
             "#c51b7d"
            ],
            [
             0.2,
             "#de77ae"
            ],
            [
             0.3,
             "#f1b6da"
            ],
            [
             0.4,
             "#fde0ef"
            ],
            [
             0.5,
             "#f7f7f7"
            ],
            [
             0.6,
             "#e6f5d0"
            ],
            [
             0.7,
             "#b8e186"
            ],
            [
             0.8,
             "#7fbc41"
            ],
            [
             0.9,
             "#4d9221"
            ],
            [
             1,
             "#276419"
            ]
           ],
           "sequential": [
            [
             0,
             "#0d0887"
            ],
            [
             0.1111111111111111,
             "#46039f"
            ],
            [
             0.2222222222222222,
             "#7201a8"
            ],
            [
             0.3333333333333333,
             "#9c179e"
            ],
            [
             0.4444444444444444,
             "#bd3786"
            ],
            [
             0.5555555555555556,
             "#d8576b"
            ],
            [
             0.6666666666666666,
             "#ed7953"
            ],
            [
             0.7777777777777778,
             "#fb9f3a"
            ],
            [
             0.8888888888888888,
             "#fdca26"
            ],
            [
             1,
             "#f0f921"
            ]
           ],
           "sequentialminus": [
            [
             0,
             "#0d0887"
            ],
            [
             0.1111111111111111,
             "#46039f"
            ],
            [
             0.2222222222222222,
             "#7201a8"
            ],
            [
             0.3333333333333333,
             "#9c179e"
            ],
            [
             0.4444444444444444,
             "#bd3786"
            ],
            [
             0.5555555555555556,
             "#d8576b"
            ],
            [
             0.6666666666666666,
             "#ed7953"
            ],
            [
             0.7777777777777778,
             "#fb9f3a"
            ],
            [
             0.8888888888888888,
             "#fdca26"
            ],
            [
             1,
             "#f0f921"
            ]
           ]
          },
          "colorway": [
           "#636efa",
           "#EF553B",
           "#00cc96",
           "#ab63fa",
           "#FFA15A",
           "#19d3f3",
           "#FF6692",
           "#B6E880",
           "#FF97FF",
           "#FECB52"
          ],
          "font": {
           "color": "#2a3f5f"
          },
          "geo": {
           "bgcolor": "white",
           "lakecolor": "white",
           "landcolor": "#E5ECF6",
           "showlakes": true,
           "showland": true,
           "subunitcolor": "white"
          },
          "hoverlabel": {
           "align": "left"
          },
          "hovermode": "closest",
          "mapbox": {
           "style": "light"
          },
          "paper_bgcolor": "white",
          "plot_bgcolor": "#E5ECF6",
          "polar": {
           "angularaxis": {
            "gridcolor": "white",
            "linecolor": "white",
            "ticks": ""
           },
           "bgcolor": "#E5ECF6",
           "radialaxis": {
            "gridcolor": "white",
            "linecolor": "white",
            "ticks": ""
           }
          },
          "scene": {
           "xaxis": {
            "backgroundcolor": "#E5ECF6",
            "gridcolor": "white",
            "gridwidth": 2,
            "linecolor": "white",
            "showbackground": true,
            "ticks": "",
            "zerolinecolor": "white"
           },
           "yaxis": {
            "backgroundcolor": "#E5ECF6",
            "gridcolor": "white",
            "gridwidth": 2,
            "linecolor": "white",
            "showbackground": true,
            "ticks": "",
            "zerolinecolor": "white"
           },
           "zaxis": {
            "backgroundcolor": "#E5ECF6",
            "gridcolor": "white",
            "gridwidth": 2,
            "linecolor": "white",
            "showbackground": true,
            "ticks": "",
            "zerolinecolor": "white"
           }
          },
          "shapedefaults": {
           "line": {
            "color": "#2a3f5f"
           }
          },
          "ternary": {
           "aaxis": {
            "gridcolor": "white",
            "linecolor": "white",
            "ticks": ""
           },
           "baxis": {
            "gridcolor": "white",
            "linecolor": "white",
            "ticks": ""
           },
           "bgcolor": "#E5ECF6",
           "caxis": {
            "gridcolor": "white",
            "linecolor": "white",
            "ticks": ""
           }
          },
          "title": {
           "x": 0.05
          },
          "xaxis": {
           "automargin": true,
           "gridcolor": "white",
           "linecolor": "white",
           "ticks": "",
           "zerolinecolor": "white",
           "zerolinewidth": 2
          },
          "yaxis": {
           "automargin": true,
           "gridcolor": "white",
           "linecolor": "white",
           "ticks": "",
           "zerolinecolor": "white",
           "zerolinewidth": 2
          }
         }
        }
       }
      },
      "text/html": [
       "<div>\n",
       "        \n",
       "        \n",
       "            <div id=\"6bfa2a80-db7e-44d7-924b-3652f097f7ca\" class=\"plotly-graph-div\" style=\"height:600px; width:100%;\"></div>\n",
       "            <script type=\"text/javascript\">\n",
       "                require([\"plotly\"], function(Plotly) {\n",
       "                    window.PLOTLYENV=window.PLOTLYENV || {};\n",
       "                    \n",
       "                if (document.getElementById(\"6bfa2a80-db7e-44d7-924b-3652f097f7ca\")) {\n",
       "                    Plotly.newPlot(\n",
       "                        '6bfa2a80-db7e-44d7-924b-3652f097f7ca',\n",
       "                        [{\"hoverlabel\": {\"namelength\": 0}, \"hovertemplate\": \"XCOLLAR=%{x}<br>YCOLLAR=%{y}<br>ZCOLLAR=%{z}\", \"legendgroup\": \"\", \"marker\": {\"color\": \"#636efa\", \"symbol\": \"circle\"}, \"mode\": \"markers\", \"name\": \"\", \"scene\": \"scene\", \"showlegend\": false, \"type\": \"scatter3d\", \"x\": [2296021.09, 2294148.2, 2296769.5, 2297820.11, 2298789.91, 2299166.09, 2296388.2, 2299545.9, 2298773.89, 2299448.39, 2298100.8, 2297431.71, 2297648.29, 2296979.2, 2296523.98, 2295636.09, 2294967.9, 2295852.99, 2295166.51, 2294289.21, 2293403.28, 2293620.62, 2293835.61, 2294509.88, 2294944.7, 2291774.21, 2292726.81, 2298732.09, 2293168.4, 2293614.81, 2297623.01, 2291751.6, 2300326.11, 2291938.0, 2299504.3, 2299227.89, 2301570.71, 2294040.9, 2292485.1, 2291828.4, 2292676.11, 2300336.48, 2299667.39, 2298663.9, 2298502.51, 2298988.89, 2298324.9, 2300124.4, 2300559.21, 2290188.31, 2292850.41, 2291879.09, 2290197.11, 2294760.31, 2289427.79, 2297418.89, 2299699.7, 2303238.0, 2293869.3, 2297252.59, 2295147.99, 2295148.08, 2300443.0, 2293813.0, 2293813.1, 2290955.91, 2294478.71, 2295319.0, 2292709.59, 2294277.7, 2292901.6, 2294703.59, 2293333.79, 2295301.39, 2295922.81, 2296023.69, 2295600.81, 2292029.8, 2296811.81, 2296811.94, 2296811.94, 2295792.19, 2295497.69, 2292226.81, 2301192.39, 2301130.51, 2290559.81, 2299116.6, 2299625.3, 2298166.99, 2298788.89, 2298329.51, 2298674.29, 2297959.0, 2295619.71, 2300932.4, 2299185.19, 2300407.69, 2300407.69, 2302430.5, 2302189.92, 2300704.8, 2303102.3, 2289986.71, 2301575.1, 2289866.92, 2290407.8, 2301786.01, 2303990.51, 2301328.9, 2300447.69, 2302003.99, 2300893.99, 2300230.69, 2301002.59, 2301452.99, 2301228.91, 2301674.0, 2301011.49, 2300783.0, 2301561.39, 2300665.7, 2300681.7, 2302232.69, 2299568.81, 2302782.6, 2301345.1, 2298680.79, 2302107.68, 2299689.99, 2301901.7, 2297799.19, 2301681.39, 2302355.2, 2301117.9, 2302614.09, 2300881.59, 2302770.1, 2301231.3, 2301451.9, 2301230.71, 2300566.89, 2300345.89, 2301826.11, 2290535.49, 2290754.09, 2294202.81, 2289641.81, 2298983.8, 2296880.51, 2302125.21, 2297565.71, 2297565.71, 2299762.11, 2289002.19, 2288894.12, 2300494.0, 2288595.31, 2289936.78, 2289425.11, 2289757.49, 2301651.51, 2297340.9, 2290367.69, 2300404.2, 2288965.69, 2289640.71, 2288574.9, 2288231.4, 2292038.4, 2299906.79, 2293332.41, 2296297.61, 2301266.5, 2298694.21, 2296542.99, 2299071.79, 2300930.48, 2300049.2, 2297084.02, 2299540.3, 2300463.82, 2300757.19, 2296260.3, 2301235.11, 2299356.81, 2301804.89, 2296619.91, 2299862.59, 2301889.99, 2302476.41, 2299030.3, 2302335.12, 2301370.9, 2302237.51, 2300110.51, 2302859.89, 2300812.81, 2299311.09, 2303342.1, 2301672.99, 2301468.7, 2302057.2, 2302455.1, 2298871.09, 2302021.69, 2300130.01, 2301895.3, 2301458.3, 2301687.91, 2302141.31, 2302361.6, 2301580.98, 2301465.6, 2301298.61, 2301913.41, 2302574.01, 2301609.3, 2301716.92, 2302572.19, 2301105.21, 2300642.91, 2298176.38, 2294640.2, 2302258.58, 2294794.5, 2300241.9, 2294164.12, 2300808.29, 2302808.21, 2294340.61, 2295466.62, 2293903.59, 2294058.31, 2294721.7, 2300681.28, 2295420.49, 2295710.51, 2295023.49, 2300351.39, 2296905.21, 2295241.81, 2300524.99, 2296692.41, 2295632.69, 2297118.8, 2299956.51, 2291935.2, 2291948.81, 2293800.21, 2296168.48, 2297196.59, 2293794.49, 2297264.21, 2293382.7, 2292959.8, 2296964.78, 2297415.59, 2301132.89, 2292279.28, 2300173.71, 2296377.81, 2295895.72, 2296077.9, 2300888.99, 2299997.81, 2296582.8, 2298679.39, 2299576.4, 2295210.5, 2295891.31, 2299542.6, 2294991.8, 2300149.81, 2297846.3, 2293041.3, 2296131.1, 2296545.3, 2293038.71, 2296854.5, 2298643.89, 2294769.9, 2298538.9, 2298432.79, 2299334.89, 2297543.6, 2297544.82, 2297543.16, 2297534.32, 2297557.96, 2297554.99, 2297547.46, 2297989.41, 2295238.39, 2298207.79, 2298252.32, 2297789.6, 2301121.31, 2295072.49, 2298884.29, 2296332.51, 2295016.99, 2298525.01, 2297125.3, 2294246.21, 2294479.18, 2298387.89, 2296651.9, 2292346.3, 2297994.59, 2298219.42, 2297844.81, 2292712.2, 2298212.8, 2299383.19, 2292486.69, 2299623.2, 2299836.01, 2299369.01, 2292484.19, 2299003.81, 2299267.11, 2292844.91, 2299085.1, 2301019.4, 2295956.71, 2295071.41, 2297856.1, 2295715.49, 2294225.7, 2297949.49, 2297437.1, 2294098.01, 2294322.89, 2293523.89, 2293178.69, 2293880.89, 2297100.99, 2294571.08, 2293421.82, 2297265.09, 2293656.19, 2291658.41, 2291443.61, 2297090.7, 2297379.51, 2298158.99, 2297629.58, 2298801.31, 2297464.5, 2298373.39, 2298031.0, 2297915.81, 2299320.7, 2299993.59, 2297191.31, 2300064.8, 2299715.71, 2298339.7, 2300391.38, 2297669.39, 2299092.71, 2297897.68, 2300158.79, 2299604.59, 2298797.09, 2300713.9, 2296777.28, 2290759.3, 2290305.91, 2300955.29, 2289801.71, 2291015.6, 2290424.28, 2300738.09, 2289888.51, 2291211.39, 2299742.58, 2289535.2, 2289314.69, 2291884.39, 2289074.32, 2304078.0, 2288407.79, 2288406.79, 2288451.2, 2289548.49, 2289078.01, 2302737.1, 2300100.1, 2302283.91, 2303553.99, 2300885.43, 2306237.25, 2289148.97, 2294072.59, 2290684.77, 2294796.19, 2295276.24], \"y\": [414095.85, 420495.9, 422333.5, 423647.4, 424357.51, 423783.8, 421454.09, 423193.4, 423649.0, 424085.69, 423215.1, 422778.9, 422442.6, 422005.79, 421240.6, 421139.89, 420697.79, 420805.0, 420391.1, 420274.51, 420175.41, 419835.1, 419504.9, 419939.1, 419269.29, 418995.9, 419740.09, 422246.01, 419063.39, 418408.89, 421020.5, 419021.79, 422733.61, 416487.09, 423999.19, 424420.61, 424896.11, 417713.89, 418624.72, 416650.79, 416844.71, 424184.1, 423751.0, 423816.11, 424065.39, 423314.1, 422872.31, 424526.29, 423856.61, 417724.99, 420290.7, 415188.71, 415681.69, 416886.0, 416408.29, 418546.29, 420543.51, 422691.29, 413722.81, 416107.4, 418981.01, 418981.01, 424972.61, 418054.81, 418054.81, 417280.8, 418485.81, 418580.69, 418281.6, 418820.2, 417935.29, 418127.41, 417265.7, 417045.71, 417522.99, 419042.1, 419743.6, 417852.22, 419520.89, 419520.86, 419520.86, 419401.0, 418231.21, 417542.5, 421524.2, 418592.89, 416555.01, 424228.29, 424189.49, 420071.8, 423991.09, 423598.39, 423063.99, 422724.8, 420355.01, 418565.91, 418399.7, 416698.99, 416698.99, 419477.4, 418332.9, 419692.01, 419865.89, 416016.0, 419396.62, 415463.19, 415382.1, 419050.59, 419288.9, 418286.49, 418169.9, 418717.61, 418947.21, 418503.91, 418056.18, 418836.19, 419164.11, 418496.81, 419496.21, 418388.22, 417947.49, 417836.89, 419273.22, 419819.9, 419504.69, 419706.5, 419717.02, 419401.41, 419285.89, 420052.41, 419605.3, 419304.9, 419939.69, 418949.79, 420044.01, 419241.21, 419902.99, 419458.99, 419881.6, 419557.41, 418804.29, 418725.01, 419058.51, 418217.69, 415893.8, 415561.11, 416021.11, 415800.0, 417496.21, 417125.6, 420710.2, 416558.51, 416558.51, 424407.9, 417126.29, 416719.19, 420597.8, 416998.61, 417154.81, 416892.61, 416607.39, 423119.61, 419986.1, 416978.7, 420068.0, 416347.39, 414483.98, 416611.39, 416396.51, 416348.41, 421338.42, 416265.31, 420121.91, 423995.21, 420849.48, 419788.8, 420258.49, 423270.19, 420334.91, 419201.59, 422467.9, 421056.09, 422062.09, 418696.31, 420589.3, 421281.11, 421915.91, 418334.11, 421970.09, 420310.39, 422350.7, 421790.99, 420351.52, 422584.41, 421247.71, 419368.01, 420463.0, 420318.31, 420008.39, 421009.89, 420647.61, 420291.39, 420054.1, 420909.7, 420553.0, 421580.99, 420817.31, 421031.0, 420979.19, 421368.89, 422143.32, 421800.92, 422265.4, 421706.49, 421993.21, 422456.7, 421461.99, 421999.0, 422798.9, 420047.89, 420850.21, 421529.99, 417213.9, 420476.99, 422689.69, 420202.01, 421384.61, 419807.11, 421267.89, 421092.2, 419434.4, 420660.09, 420124.91, 419177.6, 419600.69, 420714.31, 419252.5, 420973.61, 419909.4, 421942.59, 420647.21, 419592.99, 422406.9, 420980.7, 418897.29, 420330.3, 417381.11, 419363.49, 419376.2, 420354.19, 420435.29, 421673.19, 420363.7, 419443.78, 418730.2, 419395.11, 419800.19, 421335.71, 421428.59, 418966.28, 417046.09, 419334.31, 418546.32, 419636.3, 421857.1, 421760.71, 418994.28, 416496.7, 420946.48, 418072.59, 419977.7, 421728.11, 418452.8, 422281.99, 420666.91, 419994.31, 421131.69, 420441.11, 419998.31, 421461.5, 417964.39, 418795.29, 422544.99, 421226.91, 416955.42, 422614.81, 422615.83, 422624.03, 422610.24, 422605.35, 422617.16, 422605.0, 422660.0, 420282.9, 418639.39, 421513.41, 422953.99, 417175.21, 420540.81, 416181.91, 420743.09, 420625.89, 423315.59, 421113.89, 420354.59, 420714.0, 423522.5, 421780.89, 419597.29, 423377.92, 423766.2, 422151.89, 419769.5, 423043.29, 423446.29, 419398.61, 424557.19, 424212.51, 424211.3, 419402.42, 424036.49, 423601.42, 419572.39, 423908.59, 422395.81, 416222.91, 416125.09, 418445.4, 415112.4, 415989.11, 416068.69, 419085.01, 418367.2, 418032.58, 419993.6, 419785.71, 418699.3, 418877.3, 419104.09, 420157.61, 415646.29, 419047.51, 418448.11, 418781.1, 422572.89, 422134.79, 422419.0, 421727.98, 422726.81, 420517.29, 422090.01, 421860.5, 421278.69, 422810.89, 423248.4, 420834.19, 424601.29, 423669.91, 420656.91, 423373.6, 420203.71, 423144.91, 419862.11, 423736.0, 423104.41, 421414.61, 424329.1, 420113.0, 418369.5, 418252.89, 424702.3, 418263.21, 418014.81, 417384.41, 425038.9, 417502.19, 417687.8, 417724.51, 417313.49, 417651.59, 418100.7, 417351.89, 421467.9, 416816.3, 416137.8, 417552.71, 418760.29, 415916.6, 423429.6, 417952.49, 424122.09, 422069.3, 414386.06, 419584.65, 417989.93, 421970.5, 417975.58, 420737.6, 420029.42], \"z\": [1590.0, 1620.9, 1553.0, 1565.0, 1544.0, 1528.0, 1584.8, 1545.0, 1535.5, 1531.4, 1542.3, 1575.3, 1557.2, 1573.7, 1578.2, 1579.6, 1585.7, 1585.9, 1583.9, 1612.3, 1607.3, 1613.9, 1608.8, 1592.2, 1590.4, 1606.5, 1617.0, 1543.4, 1608.5, 1591.9, 1563.2, 1607.0, 1567.2, 1597.9, 1529.5, 1548.0, 1528.0, 1593.1, 1604.2, 1599.4, 1598.0, 1531.0, 1530.0, 1540.0, 1558.0, 1538.0, 1538.7, 1535.4, 1528.8, 1624.0, 1606.0, 1602.0, 1596.0, 1596.0, 1613.0, 1601.0, 1589.0, 1547.1, 1600.0, 1609.0, 1595.3, 1595.3, 1552.0, 1592.5, 1592.5, 1601.0, 1591.8, 1597.7, 1593.1, 1591.1, 1601.5, 1591.9, 1601.5, 1597.0, 1597.3, 1594.9, 1595.2, 1604.6, 1589.0, 1589.0, 1589.0, 1597.9, 1609.4, 1611.2, 1597.0, 1611.0, 1603.0, 1535.0, 1535.0, 1581.0, 1533.0, 1557.0, 1531.0, 1551.4, 1588.8, 1604.0, 1598.0, 1613.0, 1613.0, 1588.0, 1624.0, 1589.0, 1564.0, 1597.0, 1590.0, 1596.0, 1600.0, 1602.0, 1586.0, 1615.0, 1605.0, 1606.0, 1602.0, 1596.6, 1616.0, 1601.0, 1602.0, 1610.0, 1587.0, 1605.0, 1621.0, 1613.0, 1587.0, 1574.0, 1588.2, 1566.0, 1585.0, 1585.0, 1584.1, 1584.0, 1577.7, 1597.2, 1594.3, 1599.0, 1589.0, 1579.6, 1586.0, 1586.0, 1584.0, 1584.0, 1604.0, 1594.8, 1588.9, 1633.0, 1595.5, 1603.6, 1604.9, 1596.0, 1602.9, 1593.1, 1597.8, 1617.2, 1617.2, 1529.5, 1611.0, 1618.0, 1588.5, 1606.0, 1621.0, 1610.0, 1604.0, 1569.3, 1578.0, 1598.0, 1586.5, 1619.0, 1602.0, 1599.2, 1599.6, 1597.7, 1609.2, 1596.0, 1589.1, 1528.2, 1581.4, 1584.7, 1586.3, 1563.4, 1586.6, 1589.5, 1562.5, 1586.0, 1568.9, 1590.6, 1595.1, 1580.9, 1595.0, 1594.0, 1588.0, 1590.0, 1589.0, 1566.0, 1579.6, 1573.0, 1597.0, 1586.0, 1581.0, 1587.0, 1599.0, 1559.0, 1590.0, 1594.0, 1586.0, 1588.0, 1583.1, 1598.0, 1598.0, 1589.0, 1589.0, 1591.8, 1596.0, 1595.9, 1580.0, 1601.8, 1585.0, 1575.0, 1591.0, 1596.0, 1576.0, 1572.4, 1590.1, 1586.9, 1593.8, 1589.5, 1574.1, 1589.2, 1600.4, 1598.1, 1586.6, 1571.8, 1599.3, 1581.4, 1610.1, 1602.9, 1589.9, 1588.7, 1595.5, 1579.0, 1586.0, 1587.1, 1576.5, 1588.8, 1570.8, 1570.0, 1599.5, 1579.6, 1611.2, 1609.5, 1610.1, 1610.8, 1593.0, 1564.7, 1609.5, 1589.8, 1609.7, 1604.7, 1583.2, 1560.1, 1596.6, 1603.3, 1606.9, 1591.5, 1604.4, 1602.4, 1584.5, 1594.6, 1590.5, 1608.0, 1592.1, 1610.0, 1595.4, 1591.5, 1606.4, 1574.7, 1579.7, 1610.7, 1583.3, 1577.3, 1611.8, 1571.0, 1607.0, 1592.7, 1550.6, 1562.7, 1608.7, 1564.8, 1563.3, 1564.2, 1563.2, 1562.9, 1563.2, 1562.2, 1553.9, 1584.2, 1589.7, 1553.4, 1545.8, 1633.3, 1589.0, 1607.7, 1578.1, 1588.2, 1529.8, 1571.3, 1613.7, 1591.5, 1548.8, 1584.8, 1612.3, 1545.7, 1566.1, 1562.4, 1619.8, 1536.1, 1531.2, 1609.6, 1530.5, 1530.7, 1531.8, 1609.7, 1531.8, 1529.0, 1603.0, 1528.5, 1567.3, 1596.3, 1597.4, 1590.4, 1595.6, 1597.6, 1595.1, 1597.8, 1592.0, 1594.5, 1608.7, 1608.2, 1590.4, 1598.6, 1590.4, 1609.0, 1599.5, 1610.3, 1600.8, 1605.0, 1565.6, 1573.3, 1560.8, 1565.2, 1543.1, 1573.8, 1552.2, 1558.7, 1560.3, 1550.5, 1555.8, 1576.2, 1532.3, 1533.8, 1590.0, 1542.8, 1578.4, 1541.4, 1583.4, 1532.9, 1554.6, 1559.2, 1528.3, 1579.4, 1623.1, 1619.7, 1535.2, 1623.2, 1602.0, 1602.3, 1535.9, 1623.1, 1612.5, 1619.0, 1621.2, 1626.9, 1607.4, 1610.3, 1561.9, 1608.5, 1594.1, 1603.6, 1618.5, 1596.8, 1562.5, 1611.2, 1538.6, 1572.8, 1595.0, 1550.0, 1602.6, 1595.0, 1600.1, 1586.9, 1587.7]}],\n",
       "                        {\"height\": 600, \"legend\": {\"tracegroupgap\": 0}, \"margin\": {\"t\": 60}, \"scene\": {\"domain\": {\"x\": [0.0, 0.98], \"y\": [0.0, 1.0]}, \"xaxis\": {\"title\": {\"text\": \"XCOLLAR\"}}, \"yaxis\": {\"title\": {\"text\": \"YCOLLAR\"}}, \"zaxis\": {\"title\": {\"text\": \"ZCOLLAR\"}}}, \"template\": {\"data\": {\"bar\": [{\"error_x\": {\"color\": \"#2a3f5f\"}, \"error_y\": {\"color\": \"#2a3f5f\"}, \"marker\": {\"line\": {\"color\": \"#E5ECF6\", \"width\": 0.5}}, \"type\": \"bar\"}], \"barpolar\": [{\"marker\": {\"line\": {\"color\": \"#E5ECF6\", \"width\": 0.5}}, \"type\": \"barpolar\"}], \"carpet\": [{\"aaxis\": {\"endlinecolor\": \"#2a3f5f\", \"gridcolor\": \"white\", \"linecolor\": \"white\", \"minorgridcolor\": \"white\", \"startlinecolor\": \"#2a3f5f\"}, \"baxis\": {\"endlinecolor\": \"#2a3f5f\", \"gridcolor\": \"white\", \"linecolor\": \"white\", \"minorgridcolor\": \"white\", \"startlinecolor\": \"#2a3f5f\"}, \"type\": \"carpet\"}], \"choropleth\": [{\"colorbar\": {\"outlinewidth\": 0, \"ticks\": \"\"}, \"type\": \"choropleth\"}], \"contour\": [{\"colorbar\": {\"outlinewidth\": 0, \"ticks\": \"\"}, \"colorscale\": [[0.0, \"#0d0887\"], [0.1111111111111111, \"#46039f\"], [0.2222222222222222, \"#7201a8\"], [0.3333333333333333, \"#9c179e\"], [0.4444444444444444, \"#bd3786\"], [0.5555555555555556, \"#d8576b\"], [0.6666666666666666, \"#ed7953\"], [0.7777777777777778, \"#fb9f3a\"], [0.8888888888888888, \"#fdca26\"], [1.0, \"#f0f921\"]], \"type\": \"contour\"}], \"contourcarpet\": [{\"colorbar\": {\"outlinewidth\": 0, \"ticks\": \"\"}, \"type\": \"contourcarpet\"}], \"heatmap\": [{\"colorbar\": {\"outlinewidth\": 0, \"ticks\": \"\"}, \"colorscale\": [[0.0, \"#0d0887\"], [0.1111111111111111, \"#46039f\"], [0.2222222222222222, \"#7201a8\"], [0.3333333333333333, \"#9c179e\"], [0.4444444444444444, \"#bd3786\"], [0.5555555555555556, \"#d8576b\"], [0.6666666666666666, \"#ed7953\"], [0.7777777777777778, \"#fb9f3a\"], [0.8888888888888888, \"#fdca26\"], [1.0, \"#f0f921\"]], \"type\": \"heatmap\"}], \"heatmapgl\": [{\"colorbar\": {\"outlinewidth\": 0, \"ticks\": \"\"}, \"colorscale\": [[0.0, \"#0d0887\"], [0.1111111111111111, \"#46039f\"], [0.2222222222222222, \"#7201a8\"], [0.3333333333333333, \"#9c179e\"], [0.4444444444444444, \"#bd3786\"], [0.5555555555555556, \"#d8576b\"], [0.6666666666666666, \"#ed7953\"], [0.7777777777777778, \"#fb9f3a\"], [0.8888888888888888, \"#fdca26\"], [1.0, \"#f0f921\"]], \"type\": \"heatmapgl\"}], \"histogram\": [{\"marker\": {\"colorbar\": {\"outlinewidth\": 0, \"ticks\": \"\"}}, \"type\": \"histogram\"}], \"histogram2d\": [{\"colorbar\": {\"outlinewidth\": 0, \"ticks\": \"\"}, \"colorscale\": [[0.0, \"#0d0887\"], [0.1111111111111111, \"#46039f\"], [0.2222222222222222, \"#7201a8\"], [0.3333333333333333, \"#9c179e\"], [0.4444444444444444, \"#bd3786\"], [0.5555555555555556, \"#d8576b\"], [0.6666666666666666, \"#ed7953\"], [0.7777777777777778, \"#fb9f3a\"], [0.8888888888888888, \"#fdca26\"], [1.0, \"#f0f921\"]], \"type\": \"histogram2d\"}], \"histogram2dcontour\": [{\"colorbar\": {\"outlinewidth\": 0, \"ticks\": \"\"}, \"colorscale\": [[0.0, \"#0d0887\"], [0.1111111111111111, \"#46039f\"], [0.2222222222222222, \"#7201a8\"], [0.3333333333333333, \"#9c179e\"], [0.4444444444444444, \"#bd3786\"], [0.5555555555555556, \"#d8576b\"], [0.6666666666666666, \"#ed7953\"], [0.7777777777777778, \"#fb9f3a\"], [0.8888888888888888, \"#fdca26\"], [1.0, \"#f0f921\"]], \"type\": \"histogram2dcontour\"}], \"mesh3d\": [{\"colorbar\": {\"outlinewidth\": 0, \"ticks\": \"\"}, \"type\": \"mesh3d\"}], \"parcoords\": [{\"line\": {\"colorbar\": {\"outlinewidth\": 0, \"ticks\": \"\"}}, \"type\": \"parcoords\"}], \"scatter\": [{\"marker\": {\"colorbar\": {\"outlinewidth\": 0, \"ticks\": \"\"}}, \"type\": \"scatter\"}], \"scatter3d\": [{\"line\": {\"colorbar\": {\"outlinewidth\": 0, \"ticks\": \"\"}}, \"marker\": {\"colorbar\": {\"outlinewidth\": 0, \"ticks\": \"\"}}, \"type\": \"scatter3d\"}], \"scattercarpet\": [{\"marker\": {\"colorbar\": {\"outlinewidth\": 0, \"ticks\": \"\"}}, \"type\": \"scattercarpet\"}], \"scattergeo\": [{\"marker\": {\"colorbar\": {\"outlinewidth\": 0, \"ticks\": \"\"}}, \"type\": \"scattergeo\"}], \"scattergl\": [{\"marker\": {\"colorbar\": {\"outlinewidth\": 0, \"ticks\": \"\"}}, \"type\": \"scattergl\"}], \"scattermapbox\": [{\"marker\": {\"colorbar\": {\"outlinewidth\": 0, \"ticks\": \"\"}}, \"type\": \"scattermapbox\"}], \"scatterpolar\": [{\"marker\": {\"colorbar\": {\"outlinewidth\": 0, \"ticks\": \"\"}}, \"type\": \"scatterpolar\"}], \"scatterpolargl\": [{\"marker\": {\"colorbar\": {\"outlinewidth\": 0, \"ticks\": \"\"}}, \"type\": \"scatterpolargl\"}], \"scatterternary\": [{\"marker\": {\"colorbar\": {\"outlinewidth\": 0, \"ticks\": \"\"}}, \"type\": \"scatterternary\"}], \"surface\": [{\"colorbar\": {\"outlinewidth\": 0, \"ticks\": \"\"}, \"colorscale\": [[0.0, \"#0d0887\"], [0.1111111111111111, \"#46039f\"], [0.2222222222222222, \"#7201a8\"], [0.3333333333333333, \"#9c179e\"], [0.4444444444444444, \"#bd3786\"], [0.5555555555555556, \"#d8576b\"], [0.6666666666666666, \"#ed7953\"], [0.7777777777777778, \"#fb9f3a\"], [0.8888888888888888, \"#fdca26\"], [1.0, \"#f0f921\"]], \"type\": \"surface\"}], \"table\": [{\"cells\": {\"fill\": {\"color\": \"#EBF0F8\"}, \"line\": {\"color\": \"white\"}}, \"header\": {\"fill\": {\"color\": \"#C8D4E3\"}, \"line\": {\"color\": \"white\"}}, \"type\": \"table\"}]}, \"layout\": {\"annotationdefaults\": {\"arrowcolor\": \"#2a3f5f\", \"arrowhead\": 0, \"arrowwidth\": 1}, \"colorscale\": {\"diverging\": [[0, \"#8e0152\"], [0.1, \"#c51b7d\"], [0.2, \"#de77ae\"], [0.3, \"#f1b6da\"], [0.4, \"#fde0ef\"], [0.5, \"#f7f7f7\"], [0.6, \"#e6f5d0\"], [0.7, \"#b8e186\"], [0.8, \"#7fbc41\"], [0.9, \"#4d9221\"], [1, \"#276419\"]], \"sequential\": [[0.0, \"#0d0887\"], [0.1111111111111111, \"#46039f\"], [0.2222222222222222, \"#7201a8\"], [0.3333333333333333, \"#9c179e\"], [0.4444444444444444, \"#bd3786\"], [0.5555555555555556, \"#d8576b\"], [0.6666666666666666, \"#ed7953\"], [0.7777777777777778, \"#fb9f3a\"], [0.8888888888888888, \"#fdca26\"], [1.0, \"#f0f921\"]], \"sequentialminus\": [[0.0, \"#0d0887\"], [0.1111111111111111, \"#46039f\"], [0.2222222222222222, \"#7201a8\"], [0.3333333333333333, \"#9c179e\"], [0.4444444444444444, \"#bd3786\"], [0.5555555555555556, \"#d8576b\"], [0.6666666666666666, \"#ed7953\"], [0.7777777777777778, \"#fb9f3a\"], [0.8888888888888888, \"#fdca26\"], [1.0, \"#f0f921\"]]}, \"colorway\": [\"#636efa\", \"#EF553B\", \"#00cc96\", \"#ab63fa\", \"#FFA15A\", \"#19d3f3\", \"#FF6692\", \"#B6E880\", \"#FF97FF\", \"#FECB52\"], \"font\": {\"color\": \"#2a3f5f\"}, \"geo\": {\"bgcolor\": \"white\", \"lakecolor\": \"white\", \"landcolor\": \"#E5ECF6\", \"showlakes\": true, \"showland\": true, \"subunitcolor\": \"white\"}, \"hoverlabel\": {\"align\": \"left\"}, \"hovermode\": \"closest\", \"mapbox\": {\"style\": \"light\"}, \"paper_bgcolor\": \"white\", \"plot_bgcolor\": \"#E5ECF6\", \"polar\": {\"angularaxis\": {\"gridcolor\": \"white\", \"linecolor\": \"white\", \"ticks\": \"\"}, \"bgcolor\": \"#E5ECF6\", \"radialaxis\": {\"gridcolor\": \"white\", \"linecolor\": \"white\", \"ticks\": \"\"}}, \"scene\": {\"xaxis\": {\"backgroundcolor\": \"#E5ECF6\", \"gridcolor\": \"white\", \"gridwidth\": 2, \"linecolor\": \"white\", \"showbackground\": true, \"ticks\": \"\", \"zerolinecolor\": \"white\"}, \"yaxis\": {\"backgroundcolor\": \"#E5ECF6\", \"gridcolor\": \"white\", \"gridwidth\": 2, \"linecolor\": \"white\", \"showbackground\": true, \"ticks\": \"\", \"zerolinecolor\": \"white\"}, \"zaxis\": {\"backgroundcolor\": \"#E5ECF6\", \"gridcolor\": \"white\", \"gridwidth\": 2, \"linecolor\": \"white\", \"showbackground\": true, \"ticks\": \"\", \"zerolinecolor\": \"white\"}}, \"shapedefaults\": {\"line\": {\"color\": \"#2a3f5f\"}}, \"ternary\": {\"aaxis\": {\"gridcolor\": \"white\", \"linecolor\": \"white\", \"ticks\": \"\"}, \"baxis\": {\"gridcolor\": \"white\", \"linecolor\": \"white\", \"ticks\": \"\"}, \"bgcolor\": \"#E5ECF6\", \"caxis\": {\"gridcolor\": \"white\", \"linecolor\": \"white\", \"ticks\": \"\"}}, \"title\": {\"x\": 0.05}, \"xaxis\": {\"automargin\": true, \"gridcolor\": \"white\", \"linecolor\": \"white\", \"ticks\": \"\", \"zerolinecolor\": \"white\", \"zerolinewidth\": 2}, \"yaxis\": {\"automargin\": true, \"gridcolor\": \"white\", \"linecolor\": \"white\", \"ticks\": \"\", \"zerolinecolor\": \"white\", \"zerolinewidth\": 2}}}},\n",
       "                        {\"responsive\": true}\n",
       "                    ).then(function(){\n",
       "                            \n",
       "var gd = document.getElementById('6bfa2a80-db7e-44d7-924b-3652f097f7ca');\n",
       "var x = new MutationObserver(function (mutations, observer) {{\n",
       "        var display = window.getComputedStyle(gd).display;\n",
       "        if (!display || display === 'none') {{\n",
       "            console.log([gd, 'removed!']);\n",
       "            Plotly.purge(gd);\n",
       "            observer.disconnect();\n",
       "        }}\n",
       "}});\n",
       "\n",
       "// Listen for the removal of the full notebook cells\n",
       "var notebookContainer = gd.closest('#notebook-container');\n",
       "if (notebookContainer) {{\n",
       "    x.observe(notebookContainer, {childList: true});\n",
       "}}\n",
       "\n",
       "// Listen for the clearing of the current output cell\n",
       "var outputEl = gd.closest('.output');\n",
       "if (outputEl) {{\n",
       "    x.observe(outputEl, {childList: true});\n",
       "}}\n",
       "\n",
       "                        })\n",
       "                };\n",
       "                });\n",
       "            </script>\n",
       "        </div>"
      ]
     },
     "metadata": {},
     "output_type": "display_data"
    }
   ],
   "source": [
    "fig = px.scatter_3d(babbitt_data['collar'], x='XCOLLAR', \n",
    "                    y='YCOLLAR', z='ZCOLLAR')\n",
    "fig.show()"
   ]
  },
  {
   "cell_type": "code",
   "execution_count": 16,
   "metadata": {},
   "outputs": [
    {
     "data": {
      "application/vnd.plotly.v1+json": {
       "config": {
        "plotlyServerURL": "https://plot.ly"
       },
       "data": [
        {
         "marker": {
          "opacity": 0.8,
          "size": 2
         },
         "mode": "markers",
         "type": "scatter3d",
         "x": [
          2296021.09,
          2294148.2,
          2296769.5,
          2297820.11,
          2298789.91,
          2299166.09,
          2296388.2,
          2299545.9,
          2298773.89,
          2299448.39,
          2298100.8,
          2297431.71,
          2297648.29,
          2296979.2,
          2296523.98,
          2295636.09,
          2294967.9,
          2295852.99,
          2295166.51,
          2294289.21,
          2293403.28,
          2293620.62,
          2293835.61,
          2294509.88,
          2294944.7,
          2291774.21,
          2292726.81,
          2298732.09,
          2293168.4,
          2293614.81,
          2297623.01,
          2291751.6,
          2300326.11,
          2291938,
          2299504.3,
          2299227.89,
          2301570.71,
          2294040.9,
          2292485.1,
          2291828.4,
          2292676.11,
          2300336.48,
          2299667.39,
          2298663.9,
          2298502.51,
          2298988.89,
          2298324.9,
          2300124.4,
          2300559.21,
          2290188.31,
          2292850.41,
          2291879.09,
          2290197.11,
          2294760.31,
          2289427.79,
          2297418.89,
          2299699.7,
          2303238,
          2293869.3,
          2297252.59,
          2295147.99,
          2295148.08,
          2300443,
          2293813,
          2293813.1,
          2290955.91,
          2294478.71,
          2295319,
          2292709.59,
          2294277.7,
          2292901.6,
          2294703.59,
          2293333.79,
          2295301.39,
          2295922.81,
          2296023.69,
          2295600.81,
          2292029.8,
          2296811.81,
          2296811.94,
          2296811.94,
          2295792.19,
          2295497.69,
          2292226.81,
          2301192.39,
          2301130.51,
          2290559.81,
          2299116.6,
          2299625.3,
          2298166.99,
          2298788.89,
          2298329.51,
          2298674.29,
          2297959,
          2295619.71,
          2300932.4,
          2299185.19,
          2300407.69,
          2300407.69,
          2302430.5,
          2302189.92,
          2300704.8,
          2303102.3,
          2289986.71,
          2301575.1,
          2289866.92,
          2290407.8,
          2301786.01,
          2303990.51,
          2301328.9,
          2300447.69,
          2302003.99,
          2300893.99,
          2300230.69,
          2301002.59,
          2301452.99,
          2301228.91,
          2301674,
          2301011.49,
          2300783,
          2301561.39,
          2300665.7,
          2300681.7,
          2302232.69,
          2299568.81,
          2302782.6,
          2301345.1,
          2298680.79,
          2302107.68,
          2299689.99,
          2301901.7,
          2297799.19,
          2301681.39,
          2302355.2,
          2301117.9,
          2302614.09,
          2300881.59,
          2302770.1,
          2301231.3,
          2301451.9,
          2301230.71,
          2300566.89,
          2300345.89,
          2301826.11,
          2290535.49,
          2290754.09,
          2294202.81,
          2289641.81,
          2298983.8,
          2296880.51,
          2302125.21,
          2297565.71,
          2297565.71,
          2299762.11,
          2289002.19,
          2288894.12,
          2300494,
          2288595.31,
          2289936.78,
          2289425.11,
          2289757.49,
          2301651.51,
          2297340.9,
          2290367.69,
          2300404.2,
          2288965.69,
          2289640.71,
          2288574.9,
          2288231.4,
          2292038.4,
          2299906.79,
          2293332.41,
          2296297.61,
          2301266.5,
          2298694.21,
          2296542.99,
          2299071.79,
          2300930.48,
          2300049.2,
          2297084.02,
          2299540.3,
          2300463.82,
          2300757.19,
          2296260.3,
          2301235.11,
          2299356.81,
          2301804.89,
          2296619.91,
          2299862.59,
          2301889.99,
          2302476.41,
          2299030.3,
          2302335.12,
          2301370.9,
          2302237.51,
          2300110.51,
          2302859.89,
          2300812.81,
          2299311.09,
          2303342.1,
          2301672.99,
          2301468.7,
          2302057.2,
          2302455.1,
          2298871.09,
          2302021.69,
          2300130.01,
          2301895.3,
          2301458.3,
          2301687.91,
          2302141.31,
          2302361.6,
          2301580.98,
          2301465.6,
          2301298.61,
          2301913.41,
          2302574.01,
          2301609.3,
          2301716.92,
          2302572.19,
          2301105.21,
          2300642.91,
          2298176.38,
          2294640.2,
          2302258.58,
          2294794.5,
          2300241.9,
          2294164.12,
          2300808.29,
          2302808.21,
          2294340.61,
          2295466.62,
          2293903.59,
          2294058.31,
          2294721.7,
          2300681.28,
          2295420.49,
          2295710.51,
          2295023.49,
          2300351.39,
          2296905.21,
          2295241.81,
          2300524.99,
          2296692.41,
          2295632.69,
          2297118.8,
          2299956.51,
          2291935.2,
          2291948.81,
          2293800.21,
          2296168.48,
          2297196.59,
          2293794.49,
          2297264.21,
          2293382.7,
          2292959.8,
          2296964.78,
          2297415.59,
          2301132.89,
          2292279.28,
          2300173.71,
          2296377.81,
          2295895.72,
          2296077.9,
          2300888.99,
          2299997.81,
          2296582.8,
          2298679.39,
          2299576.4,
          2295210.5,
          2295891.31,
          2299542.6,
          2294991.8,
          2300149.81,
          2297846.3,
          2293041.3,
          2296131.1,
          2296545.3,
          2293038.71,
          2296854.5,
          2298643.89,
          2294769.9,
          2298538.9,
          2298432.79,
          2299334.89,
          2297543.6,
          2297544.82,
          2297543.16,
          2297534.32,
          2297557.96,
          2297554.99,
          2297547.46,
          2297989.41,
          2295238.39,
          2298207.79,
          2298252.32,
          2297789.6,
          2301121.31,
          2295072.49,
          2298884.29,
          2296332.51,
          2295016.99,
          2298525.01,
          2297125.3,
          2294246.21,
          2294479.18,
          2298387.89,
          2296651.9,
          2292346.3,
          2297994.59,
          2298219.42,
          2297844.81,
          2292712.2,
          2298212.8,
          2299383.19,
          2292486.69,
          2299623.2,
          2299836.01,
          2299369.01,
          2292484.19,
          2299003.81,
          2299267.11,
          2292844.91,
          2299085.1,
          2301019.4,
          2295956.71,
          2295071.41,
          2297856.1,
          2295715.49,
          2294225.7,
          2297949.49,
          2297437.1,
          2294098.01,
          2294322.89,
          2293523.89,
          2293178.69,
          2293880.89,
          2297100.99,
          2294571.08,
          2293421.82,
          2297265.09,
          2293656.19,
          2291658.41,
          2291443.61,
          2297090.7,
          2297379.51,
          2298158.99,
          2297629.58,
          2298801.31,
          2297464.5,
          2298373.39,
          2298031,
          2297915.81,
          2299320.7,
          2299993.59,
          2297191.31,
          2300064.8,
          2299715.71,
          2298339.7,
          2300391.38,
          2297669.39,
          2299092.71,
          2297897.68,
          2300158.79,
          2299604.59,
          2298797.09,
          2300713.9,
          2296777.28,
          2290759.3,
          2290305.91,
          2300955.29,
          2289801.71,
          2291015.6,
          2290424.28,
          2300738.09,
          2289888.51,
          2291211.39,
          2299742.58,
          2289535.2,
          2289314.69,
          2291884.39,
          2289074.32,
          2304078,
          2288407.79,
          2288406.79,
          2288451.2,
          2289548.49,
          2289078.01,
          2302737.1,
          2300100.1,
          2302283.91,
          2303553.99,
          2300885.43,
          2306237.25,
          2289148.97,
          2294072.59,
          2290684.77,
          2294796.19,
          2295276.24
         ],
         "y": [
          414095.85,
          420495.9,
          422333.5,
          423647.4,
          424357.51,
          423783.8,
          421454.09,
          423193.4,
          423649,
          424085.69,
          423215.1,
          422778.9,
          422442.6,
          422005.79,
          421240.6,
          421139.89,
          420697.79,
          420805,
          420391.1,
          420274.51,
          420175.41,
          419835.1,
          419504.9,
          419939.1,
          419269.29,
          418995.9,
          419740.09,
          422246.01,
          419063.39,
          418408.89,
          421020.5,
          419021.79,
          422733.61,
          416487.09,
          423999.19,
          424420.61,
          424896.11,
          417713.89,
          418624.72,
          416650.79,
          416844.71,
          424184.1,
          423751,
          423816.11,
          424065.39,
          423314.1,
          422872.31,
          424526.29,
          423856.61,
          417724.99,
          420290.7,
          415188.71,
          415681.69,
          416886,
          416408.29,
          418546.29,
          420543.51,
          422691.29,
          413722.81,
          416107.4,
          418981.01,
          418981.01,
          424972.61,
          418054.81,
          418054.81,
          417280.8,
          418485.81,
          418580.69,
          418281.6,
          418820.2,
          417935.29,
          418127.41,
          417265.7,
          417045.71,
          417522.99,
          419042.1,
          419743.6,
          417852.22,
          419520.89,
          419520.86,
          419520.86,
          419401,
          418231.21,
          417542.5,
          421524.2,
          418592.89,
          416555.01,
          424228.29,
          424189.49,
          420071.8,
          423991.09,
          423598.39,
          423063.99,
          422724.8,
          420355.01,
          418565.91,
          418399.7,
          416698.99,
          416698.99,
          419477.4,
          418332.9,
          419692.01,
          419865.89,
          416016,
          419396.62,
          415463.19,
          415382.1,
          419050.59,
          419288.9,
          418286.49,
          418169.9,
          418717.61,
          418947.21,
          418503.91,
          418056.18,
          418836.19,
          419164.11,
          418496.81,
          419496.21,
          418388.22,
          417947.49,
          417836.89,
          419273.22,
          419819.9,
          419504.69,
          419706.5,
          419717.02,
          419401.41,
          419285.89,
          420052.41,
          419605.3,
          419304.9,
          419939.69,
          418949.79,
          420044.01,
          419241.21,
          419902.99,
          419458.99,
          419881.6,
          419557.41,
          418804.29,
          418725.01,
          419058.51,
          418217.69,
          415893.8,
          415561.11,
          416021.11,
          415800,
          417496.21,
          417125.6,
          420710.2,
          416558.51,
          416558.51,
          424407.9,
          417126.29,
          416719.19,
          420597.8,
          416998.61,
          417154.81,
          416892.61,
          416607.39,
          423119.61,
          419986.1,
          416978.7,
          420068,
          416347.39,
          414483.98,
          416611.39,
          416396.51,
          416348.41,
          421338.42,
          416265.31,
          420121.91,
          423995.21,
          420849.48,
          419788.8,
          420258.49,
          423270.19,
          420334.91,
          419201.59,
          422467.9,
          421056.09,
          422062.09,
          418696.31,
          420589.3,
          421281.11,
          421915.91,
          418334.11,
          421970.09,
          420310.39,
          422350.7,
          421790.99,
          420351.52,
          422584.41,
          421247.71,
          419368.01,
          420463,
          420318.31,
          420008.39,
          421009.89,
          420647.61,
          420291.39,
          420054.1,
          420909.7,
          420553,
          421580.99,
          420817.31,
          421031,
          420979.19,
          421368.89,
          422143.32,
          421800.92,
          422265.4,
          421706.49,
          421993.21,
          422456.7,
          421461.99,
          421999,
          422798.9,
          420047.89,
          420850.21,
          421529.99,
          417213.9,
          420476.99,
          422689.69,
          420202.01,
          421384.61,
          419807.11,
          421267.89,
          421092.2,
          419434.4,
          420660.09,
          420124.91,
          419177.6,
          419600.69,
          420714.31,
          419252.5,
          420973.61,
          419909.4,
          421942.59,
          420647.21,
          419592.99,
          422406.9,
          420980.7,
          418897.29,
          420330.3,
          417381.11,
          419363.49,
          419376.2,
          420354.19,
          420435.29,
          421673.19,
          420363.7,
          419443.78,
          418730.2,
          419395.11,
          419800.19,
          421335.71,
          421428.59,
          418966.28,
          417046.09,
          419334.31,
          418546.32,
          419636.3,
          421857.1,
          421760.71,
          418994.28,
          416496.7,
          420946.48,
          418072.59,
          419977.7,
          421728.11,
          418452.8,
          422281.99,
          420666.91,
          419994.31,
          421131.69,
          420441.11,
          419998.31,
          421461.5,
          417964.39,
          418795.29,
          422544.99,
          421226.91,
          416955.42,
          422614.81,
          422615.83,
          422624.03,
          422610.24,
          422605.35,
          422617.16,
          422605,
          422660,
          420282.9,
          418639.39,
          421513.41,
          422953.99,
          417175.21,
          420540.81,
          416181.91,
          420743.09,
          420625.89,
          423315.59,
          421113.89,
          420354.59,
          420714,
          423522.5,
          421780.89,
          419597.29,
          423377.92,
          423766.2,
          422151.89,
          419769.5,
          423043.29,
          423446.29,
          419398.61,
          424557.19,
          424212.51,
          424211.3,
          419402.42,
          424036.49,
          423601.42,
          419572.39,
          423908.59,
          422395.81,
          416222.91,
          416125.09,
          418445.4,
          415112.4,
          415989.11,
          416068.69,
          419085.01,
          418367.2,
          418032.58,
          419993.6,
          419785.71,
          418699.3,
          418877.3,
          419104.09,
          420157.61,
          415646.29,
          419047.51,
          418448.11,
          418781.1,
          422572.89,
          422134.79,
          422419,
          421727.98,
          422726.81,
          420517.29,
          422090.01,
          421860.5,
          421278.69,
          422810.89,
          423248.4,
          420834.19,
          424601.29,
          423669.91,
          420656.91,
          423373.6,
          420203.71,
          423144.91,
          419862.11,
          423736,
          423104.41,
          421414.61,
          424329.1,
          420113,
          418369.5,
          418252.89,
          424702.3,
          418263.21,
          418014.81,
          417384.41,
          425038.9,
          417502.19,
          417687.8,
          417724.51,
          417313.49,
          417651.59,
          418100.7,
          417351.89,
          421467.9,
          416816.3,
          416137.8,
          417552.71,
          418760.29,
          415916.6,
          423429.6,
          417952.49,
          424122.09,
          422069.3,
          414386.06,
          419584.65,
          417989.93,
          421970.5,
          417975.58,
          420737.6,
          420029.42
         ],
         "z": [
          1590,
          1620.9,
          1553,
          1565,
          1544,
          1528,
          1584.8,
          1545,
          1535.5,
          1531.4,
          1542.3,
          1575.3,
          1557.2,
          1573.7,
          1578.2,
          1579.6,
          1585.7,
          1585.9,
          1583.9,
          1612.3,
          1607.3,
          1613.9,
          1608.8,
          1592.2,
          1590.4,
          1606.5,
          1617,
          1543.4,
          1608.5,
          1591.9,
          1563.2,
          1607,
          1567.2,
          1597.9,
          1529.5,
          1548,
          1528,
          1593.1,
          1604.2,
          1599.4,
          1598,
          1531,
          1530,
          1540,
          1558,
          1538,
          1538.7,
          1535.4,
          1528.8,
          1624,
          1606,
          1602,
          1596,
          1596,
          1613,
          1601,
          1589,
          1547.1,
          1600,
          1609,
          1595.3,
          1595.3,
          1552,
          1592.5,
          1592.5,
          1601,
          1591.8,
          1597.7,
          1593.1,
          1591.1,
          1601.5,
          1591.9,
          1601.5,
          1597,
          1597.3,
          1594.9,
          1595.2,
          1604.6,
          1589,
          1589,
          1589,
          1597.9,
          1609.4,
          1611.2,
          1597,
          1611,
          1603,
          1535,
          1535,
          1581,
          1533,
          1557,
          1531,
          1551.4,
          1588.8,
          1604,
          1598,
          1613,
          1613,
          1588,
          1624,
          1589,
          1564,
          1597,
          1590,
          1596,
          1600,
          1602,
          1586,
          1615,
          1605,
          1606,
          1602,
          1596.6,
          1616,
          1601,
          1602,
          1610,
          1587,
          1605,
          1621,
          1613,
          1587,
          1574,
          1588.2,
          1566,
          1585,
          1585,
          1584.1,
          1584,
          1577.7,
          1597.2,
          1594.3,
          1599,
          1589,
          1579.6,
          1586,
          1586,
          1584,
          1584,
          1604,
          1594.8,
          1588.9,
          1633,
          1595.5,
          1603.6,
          1604.9,
          1596,
          1602.9,
          1593.1,
          1597.8,
          1617.2,
          1617.2,
          1529.5,
          1611,
          1618,
          1588.5,
          1606,
          1621,
          1610,
          1604,
          1569.3,
          1578,
          1598,
          1586.5,
          1619,
          1602,
          1599.2,
          1599.6,
          1597.7,
          1609.2,
          1596,
          1589.1,
          1528.2,
          1581.4,
          1584.7,
          1586.3,
          1563.4,
          1586.6,
          1589.5,
          1562.5,
          1586,
          1568.9,
          1590.6,
          1595.1,
          1580.9,
          1595,
          1594,
          1588,
          1590,
          1589,
          1566,
          1579.6,
          1573,
          1597,
          1586,
          1581,
          1587,
          1599,
          1559,
          1590,
          1594,
          1586,
          1588,
          1583.1,
          1598,
          1598,
          1589,
          1589,
          1591.8,
          1596,
          1595.9,
          1580,
          1601.8,
          1585,
          1575,
          1591,
          1596,
          1576,
          1572.4,
          1590.1,
          1586.9,
          1593.8,
          1589.5,
          1574.1,
          1589.2,
          1600.4,
          1598.1,
          1586.6,
          1571.8,
          1599.3,
          1581.4,
          1610.1,
          1602.9,
          1589.9,
          1588.7,
          1595.5,
          1579,
          1586,
          1587.1,
          1576.5,
          1588.8,
          1570.8,
          1570,
          1599.5,
          1579.6,
          1611.2,
          1609.5,
          1610.1,
          1610.8,
          1593,
          1564.7,
          1609.5,
          1589.8,
          1609.7,
          1604.7,
          1583.2,
          1560.1,
          1596.6,
          1603.3,
          1606.9,
          1591.5,
          1604.4,
          1602.4,
          1584.5,
          1594.6,
          1590.5,
          1608,
          1592.1,
          1610,
          1595.4,
          1591.5,
          1606.4,
          1574.7,
          1579.7,
          1610.7,
          1583.3,
          1577.3,
          1611.8,
          1571,
          1607,
          1592.7,
          1550.6,
          1562.7,
          1608.7,
          1564.8,
          1563.3,
          1564.2,
          1563.2,
          1562.9,
          1563.2,
          1562.2,
          1553.9,
          1584.2,
          1589.7,
          1553.4,
          1545.8,
          1633.3,
          1589,
          1607.7,
          1578.1,
          1588.2,
          1529.8,
          1571.3,
          1613.7,
          1591.5,
          1548.8,
          1584.8,
          1612.3,
          1545.7,
          1566.1,
          1562.4,
          1619.8,
          1536.1,
          1531.2,
          1609.6,
          1530.5,
          1530.7,
          1531.8,
          1609.7,
          1531.8,
          1529,
          1603,
          1528.5,
          1567.3,
          1596.3,
          1597.4,
          1590.4,
          1595.6,
          1597.6,
          1595.1,
          1597.8,
          1592,
          1594.5,
          1608.7,
          1608.2,
          1590.4,
          1598.6,
          1590.4,
          1609,
          1599.5,
          1610.3,
          1600.8,
          1605,
          1565.6,
          1573.3,
          1560.8,
          1565.2,
          1543.1,
          1573.8,
          1552.2,
          1558.7,
          1560.3,
          1550.5,
          1555.8,
          1576.2,
          1532.3,
          1533.8,
          1590,
          1542.8,
          1578.4,
          1541.4,
          1583.4,
          1532.9,
          1554.6,
          1559.2,
          1528.3,
          1579.4,
          1623.1,
          1619.7,
          1535.2,
          1623.2,
          1602,
          1602.3,
          1535.9,
          1623.1,
          1612.5,
          1619,
          1621.2,
          1626.9,
          1607.4,
          1610.3,
          1561.9,
          1608.5,
          1594.1,
          1603.6,
          1618.5,
          1596.8,
          1562.5,
          1611.2,
          1538.6,
          1572.8,
          1595,
          1550,
          1602.6,
          1595,
          1600.1,
          1586.9,
          1587.7
         ]
        }
       ],
       "layout": {
        "scene": {
         "aspectmode": "manual",
         "aspectratio": {
          "x": 5,
          "y": 5,
          "z": 1
         }
        },
        "template": {
         "data": {
          "bar": [
           {
            "error_x": {
             "color": "#2a3f5f"
            },
            "error_y": {
             "color": "#2a3f5f"
            },
            "marker": {
             "line": {
              "color": "#E5ECF6",
              "width": 0.5
             }
            },
            "type": "bar"
           }
          ],
          "barpolar": [
           {
            "marker": {
             "line": {
              "color": "#E5ECF6",
              "width": 0.5
             }
            },
            "type": "barpolar"
           }
          ],
          "carpet": [
           {
            "aaxis": {
             "endlinecolor": "#2a3f5f",
             "gridcolor": "white",
             "linecolor": "white",
             "minorgridcolor": "white",
             "startlinecolor": "#2a3f5f"
            },
            "baxis": {
             "endlinecolor": "#2a3f5f",
             "gridcolor": "white",
             "linecolor": "white",
             "minorgridcolor": "white",
             "startlinecolor": "#2a3f5f"
            },
            "type": "carpet"
           }
          ],
          "choropleth": [
           {
            "colorbar": {
             "outlinewidth": 0,
             "ticks": ""
            },
            "type": "choropleth"
           }
          ],
          "contour": [
           {
            "colorbar": {
             "outlinewidth": 0,
             "ticks": ""
            },
            "colorscale": [
             [
              0,
              "#0d0887"
             ],
             [
              0.1111111111111111,
              "#46039f"
             ],
             [
              0.2222222222222222,
              "#7201a8"
             ],
             [
              0.3333333333333333,
              "#9c179e"
             ],
             [
              0.4444444444444444,
              "#bd3786"
             ],
             [
              0.5555555555555556,
              "#d8576b"
             ],
             [
              0.6666666666666666,
              "#ed7953"
             ],
             [
              0.7777777777777778,
              "#fb9f3a"
             ],
             [
              0.8888888888888888,
              "#fdca26"
             ],
             [
              1,
              "#f0f921"
             ]
            ],
            "type": "contour"
           }
          ],
          "contourcarpet": [
           {
            "colorbar": {
             "outlinewidth": 0,
             "ticks": ""
            },
            "type": "contourcarpet"
           }
          ],
          "heatmap": [
           {
            "colorbar": {
             "outlinewidth": 0,
             "ticks": ""
            },
            "colorscale": [
             [
              0,
              "#0d0887"
             ],
             [
              0.1111111111111111,
              "#46039f"
             ],
             [
              0.2222222222222222,
              "#7201a8"
             ],
             [
              0.3333333333333333,
              "#9c179e"
             ],
             [
              0.4444444444444444,
              "#bd3786"
             ],
             [
              0.5555555555555556,
              "#d8576b"
             ],
             [
              0.6666666666666666,
              "#ed7953"
             ],
             [
              0.7777777777777778,
              "#fb9f3a"
             ],
             [
              0.8888888888888888,
              "#fdca26"
             ],
             [
              1,
              "#f0f921"
             ]
            ],
            "type": "heatmap"
           }
          ],
          "heatmapgl": [
           {
            "colorbar": {
             "outlinewidth": 0,
             "ticks": ""
            },
            "colorscale": [
             [
              0,
              "#0d0887"
             ],
             [
              0.1111111111111111,
              "#46039f"
             ],
             [
              0.2222222222222222,
              "#7201a8"
             ],
             [
              0.3333333333333333,
              "#9c179e"
             ],
             [
              0.4444444444444444,
              "#bd3786"
             ],
             [
              0.5555555555555556,
              "#d8576b"
             ],
             [
              0.6666666666666666,
              "#ed7953"
             ],
             [
              0.7777777777777778,
              "#fb9f3a"
             ],
             [
              0.8888888888888888,
              "#fdca26"
             ],
             [
              1,
              "#f0f921"
             ]
            ],
            "type": "heatmapgl"
           }
          ],
          "histogram": [
           {
            "marker": {
             "colorbar": {
              "outlinewidth": 0,
              "ticks": ""
             }
            },
            "type": "histogram"
           }
          ],
          "histogram2d": [
           {
            "colorbar": {
             "outlinewidth": 0,
             "ticks": ""
            },
            "colorscale": [
             [
              0,
              "#0d0887"
             ],
             [
              0.1111111111111111,
              "#46039f"
             ],
             [
              0.2222222222222222,
              "#7201a8"
             ],
             [
              0.3333333333333333,
              "#9c179e"
             ],
             [
              0.4444444444444444,
              "#bd3786"
             ],
             [
              0.5555555555555556,
              "#d8576b"
             ],
             [
              0.6666666666666666,
              "#ed7953"
             ],
             [
              0.7777777777777778,
              "#fb9f3a"
             ],
             [
              0.8888888888888888,
              "#fdca26"
             ],
             [
              1,
              "#f0f921"
             ]
            ],
            "type": "histogram2d"
           }
          ],
          "histogram2dcontour": [
           {
            "colorbar": {
             "outlinewidth": 0,
             "ticks": ""
            },
            "colorscale": [
             [
              0,
              "#0d0887"
             ],
             [
              0.1111111111111111,
              "#46039f"
             ],
             [
              0.2222222222222222,
              "#7201a8"
             ],
             [
              0.3333333333333333,
              "#9c179e"
             ],
             [
              0.4444444444444444,
              "#bd3786"
             ],
             [
              0.5555555555555556,
              "#d8576b"
             ],
             [
              0.6666666666666666,
              "#ed7953"
             ],
             [
              0.7777777777777778,
              "#fb9f3a"
             ],
             [
              0.8888888888888888,
              "#fdca26"
             ],
             [
              1,
              "#f0f921"
             ]
            ],
            "type": "histogram2dcontour"
           }
          ],
          "mesh3d": [
           {
            "colorbar": {
             "outlinewidth": 0,
             "ticks": ""
            },
            "type": "mesh3d"
           }
          ],
          "parcoords": [
           {
            "line": {
             "colorbar": {
              "outlinewidth": 0,
              "ticks": ""
             }
            },
            "type": "parcoords"
           }
          ],
          "scatter": [
           {
            "marker": {
             "colorbar": {
              "outlinewidth": 0,
              "ticks": ""
             }
            },
            "type": "scatter"
           }
          ],
          "scatter3d": [
           {
            "line": {
             "colorbar": {
              "outlinewidth": 0,
              "ticks": ""
             }
            },
            "marker": {
             "colorbar": {
              "outlinewidth": 0,
              "ticks": ""
             }
            },
            "type": "scatter3d"
           }
          ],
          "scattercarpet": [
           {
            "marker": {
             "colorbar": {
              "outlinewidth": 0,
              "ticks": ""
             }
            },
            "type": "scattercarpet"
           }
          ],
          "scattergeo": [
           {
            "marker": {
             "colorbar": {
              "outlinewidth": 0,
              "ticks": ""
             }
            },
            "type": "scattergeo"
           }
          ],
          "scattergl": [
           {
            "marker": {
             "colorbar": {
              "outlinewidth": 0,
              "ticks": ""
             }
            },
            "type": "scattergl"
           }
          ],
          "scattermapbox": [
           {
            "marker": {
             "colorbar": {
              "outlinewidth": 0,
              "ticks": ""
             }
            },
            "type": "scattermapbox"
           }
          ],
          "scatterpolar": [
           {
            "marker": {
             "colorbar": {
              "outlinewidth": 0,
              "ticks": ""
             }
            },
            "type": "scatterpolar"
           }
          ],
          "scatterpolargl": [
           {
            "marker": {
             "colorbar": {
              "outlinewidth": 0,
              "ticks": ""
             }
            },
            "type": "scatterpolargl"
           }
          ],
          "scatterternary": [
           {
            "marker": {
             "colorbar": {
              "outlinewidth": 0,
              "ticks": ""
             }
            },
            "type": "scatterternary"
           }
          ],
          "surface": [
           {
            "colorbar": {
             "outlinewidth": 0,
             "ticks": ""
            },
            "colorscale": [
             [
              0,
              "#0d0887"
             ],
             [
              0.1111111111111111,
              "#46039f"
             ],
             [
              0.2222222222222222,
              "#7201a8"
             ],
             [
              0.3333333333333333,
              "#9c179e"
             ],
             [
              0.4444444444444444,
              "#bd3786"
             ],
             [
              0.5555555555555556,
              "#d8576b"
             ],
             [
              0.6666666666666666,
              "#ed7953"
             ],
             [
              0.7777777777777778,
              "#fb9f3a"
             ],
             [
              0.8888888888888888,
              "#fdca26"
             ],
             [
              1,
              "#f0f921"
             ]
            ],
            "type": "surface"
           }
          ],
          "table": [
           {
            "cells": {
             "fill": {
              "color": "#EBF0F8"
             },
             "line": {
              "color": "white"
             }
            },
            "header": {
             "fill": {
              "color": "#C8D4E3"
             },
             "line": {
              "color": "white"
             }
            },
            "type": "table"
           }
          ]
         },
         "layout": {
          "annotationdefaults": {
           "arrowcolor": "#2a3f5f",
           "arrowhead": 0,
           "arrowwidth": 1
          },
          "colorscale": {
           "diverging": [
            [
             0,
             "#8e0152"
            ],
            [
             0.1,
             "#c51b7d"
            ],
            [
             0.2,
             "#de77ae"
            ],
            [
             0.3,
             "#f1b6da"
            ],
            [
             0.4,
             "#fde0ef"
            ],
            [
             0.5,
             "#f7f7f7"
            ],
            [
             0.6,
             "#e6f5d0"
            ],
            [
             0.7,
             "#b8e186"
            ],
            [
             0.8,
             "#7fbc41"
            ],
            [
             0.9,
             "#4d9221"
            ],
            [
             1,
             "#276419"
            ]
           ],
           "sequential": [
            [
             0,
             "#0d0887"
            ],
            [
             0.1111111111111111,
             "#46039f"
            ],
            [
             0.2222222222222222,
             "#7201a8"
            ],
            [
             0.3333333333333333,
             "#9c179e"
            ],
            [
             0.4444444444444444,
             "#bd3786"
            ],
            [
             0.5555555555555556,
             "#d8576b"
            ],
            [
             0.6666666666666666,
             "#ed7953"
            ],
            [
             0.7777777777777778,
             "#fb9f3a"
            ],
            [
             0.8888888888888888,
             "#fdca26"
            ],
            [
             1,
             "#f0f921"
            ]
           ],
           "sequentialminus": [
            [
             0,
             "#0d0887"
            ],
            [
             0.1111111111111111,
             "#46039f"
            ],
            [
             0.2222222222222222,
             "#7201a8"
            ],
            [
             0.3333333333333333,
             "#9c179e"
            ],
            [
             0.4444444444444444,
             "#bd3786"
            ],
            [
             0.5555555555555556,
             "#d8576b"
            ],
            [
             0.6666666666666666,
             "#ed7953"
            ],
            [
             0.7777777777777778,
             "#fb9f3a"
            ],
            [
             0.8888888888888888,
             "#fdca26"
            ],
            [
             1,
             "#f0f921"
            ]
           ]
          },
          "colorway": [
           "#636efa",
           "#EF553B",
           "#00cc96",
           "#ab63fa",
           "#FFA15A",
           "#19d3f3",
           "#FF6692",
           "#B6E880",
           "#FF97FF",
           "#FECB52"
          ],
          "font": {
           "color": "#2a3f5f"
          },
          "geo": {
           "bgcolor": "white",
           "lakecolor": "white",
           "landcolor": "#E5ECF6",
           "showlakes": true,
           "showland": true,
           "subunitcolor": "white"
          },
          "hoverlabel": {
           "align": "left"
          },
          "hovermode": "closest",
          "mapbox": {
           "style": "light"
          },
          "paper_bgcolor": "white",
          "plot_bgcolor": "#E5ECF6",
          "polar": {
           "angularaxis": {
            "gridcolor": "white",
            "linecolor": "white",
            "ticks": ""
           },
           "bgcolor": "#E5ECF6",
           "radialaxis": {
            "gridcolor": "white",
            "linecolor": "white",
            "ticks": ""
           }
          },
          "scene": {
           "xaxis": {
            "backgroundcolor": "#E5ECF6",
            "gridcolor": "white",
            "gridwidth": 2,
            "linecolor": "white",
            "showbackground": true,
            "ticks": "",
            "zerolinecolor": "white"
           },
           "yaxis": {
            "backgroundcolor": "#E5ECF6",
            "gridcolor": "white",
            "gridwidth": 2,
            "linecolor": "white",
            "showbackground": true,
            "ticks": "",
            "zerolinecolor": "white"
           },
           "zaxis": {
            "backgroundcolor": "#E5ECF6",
            "gridcolor": "white",
            "gridwidth": 2,
            "linecolor": "white",
            "showbackground": true,
            "ticks": "",
            "zerolinecolor": "white"
           }
          },
          "shapedefaults": {
           "line": {
            "color": "#2a3f5f"
           }
          },
          "ternary": {
           "aaxis": {
            "gridcolor": "white",
            "linecolor": "white",
            "ticks": ""
           },
           "baxis": {
            "gridcolor": "white",
            "linecolor": "white",
            "ticks": ""
           },
           "bgcolor": "#E5ECF6",
           "caxis": {
            "gridcolor": "white",
            "linecolor": "white",
            "ticks": ""
           }
          },
          "title": {
           "x": 0.05
          },
          "xaxis": {
           "automargin": true,
           "gridcolor": "white",
           "linecolor": "white",
           "ticks": "",
           "zerolinecolor": "white",
           "zerolinewidth": 2
          },
          "yaxis": {
           "automargin": true,
           "gridcolor": "white",
           "linecolor": "white",
           "ticks": "",
           "zerolinecolor": "white",
           "zerolinewidth": 2
          }
         }
        }
       }
      },
      "text/html": [
       "<div>\n",
       "        \n",
       "        \n",
       "            <div id=\"e36b9adb-f90e-4d65-96e6-993c8ed375ac\" class=\"plotly-graph-div\" style=\"height:525px; width:100%;\"></div>\n",
       "            <script type=\"text/javascript\">\n",
       "                require([\"plotly\"], function(Plotly) {\n",
       "                    window.PLOTLYENV=window.PLOTLYENV || {};\n",
       "                    \n",
       "                if (document.getElementById(\"e36b9adb-f90e-4d65-96e6-993c8ed375ac\")) {\n",
       "                    Plotly.newPlot(\n",
       "                        'e36b9adb-f90e-4d65-96e6-993c8ed375ac',\n",
       "                        [{\"marker\": {\"opacity\": 0.8, \"size\": 2}, \"mode\": \"markers\", \"type\": \"scatter3d\", \"x\": [2296021.09, 2294148.2, 2296769.5, 2297820.11, 2298789.91, 2299166.09, 2296388.2, 2299545.9, 2298773.89, 2299448.39, 2298100.8, 2297431.71, 2297648.29, 2296979.2, 2296523.98, 2295636.09, 2294967.9, 2295852.99, 2295166.51, 2294289.21, 2293403.28, 2293620.62, 2293835.61, 2294509.88, 2294944.7, 2291774.21, 2292726.81, 2298732.09, 2293168.4, 2293614.81, 2297623.01, 2291751.6, 2300326.11, 2291938.0, 2299504.3, 2299227.89, 2301570.71, 2294040.9, 2292485.1, 2291828.4, 2292676.11, 2300336.48, 2299667.39, 2298663.9, 2298502.51, 2298988.89, 2298324.9, 2300124.4, 2300559.21, 2290188.31, 2292850.41, 2291879.09, 2290197.11, 2294760.31, 2289427.79, 2297418.89, 2299699.7, 2303238.0, 2293869.3, 2297252.59, 2295147.99, 2295148.08, 2300443.0, 2293813.0, 2293813.1, 2290955.91, 2294478.71, 2295319.0, 2292709.59, 2294277.7, 2292901.6, 2294703.59, 2293333.79, 2295301.39, 2295922.81, 2296023.69, 2295600.81, 2292029.8, 2296811.81, 2296811.94, 2296811.94, 2295792.19, 2295497.69, 2292226.81, 2301192.39, 2301130.51, 2290559.81, 2299116.6, 2299625.3, 2298166.99, 2298788.89, 2298329.51, 2298674.29, 2297959.0, 2295619.71, 2300932.4, 2299185.19, 2300407.69, 2300407.69, 2302430.5, 2302189.92, 2300704.8, 2303102.3, 2289986.71, 2301575.1, 2289866.92, 2290407.8, 2301786.01, 2303990.51, 2301328.9, 2300447.69, 2302003.99, 2300893.99, 2300230.69, 2301002.59, 2301452.99, 2301228.91, 2301674.0, 2301011.49, 2300783.0, 2301561.39, 2300665.7, 2300681.7, 2302232.69, 2299568.81, 2302782.6, 2301345.1, 2298680.79, 2302107.68, 2299689.99, 2301901.7, 2297799.19, 2301681.39, 2302355.2, 2301117.9, 2302614.09, 2300881.59, 2302770.1, 2301231.3, 2301451.9, 2301230.71, 2300566.89, 2300345.89, 2301826.11, 2290535.49, 2290754.09, 2294202.81, 2289641.81, 2298983.8, 2296880.51, 2302125.21, 2297565.71, 2297565.71, 2299762.11, 2289002.19, 2288894.12, 2300494.0, 2288595.31, 2289936.78, 2289425.11, 2289757.49, 2301651.51, 2297340.9, 2290367.69, 2300404.2, 2288965.69, 2289640.71, 2288574.9, 2288231.4, 2292038.4, 2299906.79, 2293332.41, 2296297.61, 2301266.5, 2298694.21, 2296542.99, 2299071.79, 2300930.48, 2300049.2, 2297084.02, 2299540.3, 2300463.82, 2300757.19, 2296260.3, 2301235.11, 2299356.81, 2301804.89, 2296619.91, 2299862.59, 2301889.99, 2302476.41, 2299030.3, 2302335.12, 2301370.9, 2302237.51, 2300110.51, 2302859.89, 2300812.81, 2299311.09, 2303342.1, 2301672.99, 2301468.7, 2302057.2, 2302455.1, 2298871.09, 2302021.69, 2300130.01, 2301895.3, 2301458.3, 2301687.91, 2302141.31, 2302361.6, 2301580.98, 2301465.6, 2301298.61, 2301913.41, 2302574.01, 2301609.3, 2301716.92, 2302572.19, 2301105.21, 2300642.91, 2298176.38, 2294640.2, 2302258.58, 2294794.5, 2300241.9, 2294164.12, 2300808.29, 2302808.21, 2294340.61, 2295466.62, 2293903.59, 2294058.31, 2294721.7, 2300681.28, 2295420.49, 2295710.51, 2295023.49, 2300351.39, 2296905.21, 2295241.81, 2300524.99, 2296692.41, 2295632.69, 2297118.8, 2299956.51, 2291935.2, 2291948.81, 2293800.21, 2296168.48, 2297196.59, 2293794.49, 2297264.21, 2293382.7, 2292959.8, 2296964.78, 2297415.59, 2301132.89, 2292279.28, 2300173.71, 2296377.81, 2295895.72, 2296077.9, 2300888.99, 2299997.81, 2296582.8, 2298679.39, 2299576.4, 2295210.5, 2295891.31, 2299542.6, 2294991.8, 2300149.81, 2297846.3, 2293041.3, 2296131.1, 2296545.3, 2293038.71, 2296854.5, 2298643.89, 2294769.9, 2298538.9, 2298432.79, 2299334.89, 2297543.6, 2297544.82, 2297543.16, 2297534.32, 2297557.96, 2297554.99, 2297547.46, 2297989.41, 2295238.39, 2298207.79, 2298252.32, 2297789.6, 2301121.31, 2295072.49, 2298884.29, 2296332.51, 2295016.99, 2298525.01, 2297125.3, 2294246.21, 2294479.18, 2298387.89, 2296651.9, 2292346.3, 2297994.59, 2298219.42, 2297844.81, 2292712.2, 2298212.8, 2299383.19, 2292486.69, 2299623.2, 2299836.01, 2299369.01, 2292484.19, 2299003.81, 2299267.11, 2292844.91, 2299085.1, 2301019.4, 2295956.71, 2295071.41, 2297856.1, 2295715.49, 2294225.7, 2297949.49, 2297437.1, 2294098.01, 2294322.89, 2293523.89, 2293178.69, 2293880.89, 2297100.99, 2294571.08, 2293421.82, 2297265.09, 2293656.19, 2291658.41, 2291443.61, 2297090.7, 2297379.51, 2298158.99, 2297629.58, 2298801.31, 2297464.5, 2298373.39, 2298031.0, 2297915.81, 2299320.7, 2299993.59, 2297191.31, 2300064.8, 2299715.71, 2298339.7, 2300391.38, 2297669.39, 2299092.71, 2297897.68, 2300158.79, 2299604.59, 2298797.09, 2300713.9, 2296777.28, 2290759.3, 2290305.91, 2300955.29, 2289801.71, 2291015.6, 2290424.28, 2300738.09, 2289888.51, 2291211.39, 2299742.58, 2289535.2, 2289314.69, 2291884.39, 2289074.32, 2304078.0, 2288407.79, 2288406.79, 2288451.2, 2289548.49, 2289078.01, 2302737.1, 2300100.1, 2302283.91, 2303553.99, 2300885.43, 2306237.25, 2289148.97, 2294072.59, 2290684.77, 2294796.19, 2295276.24], \"y\": [414095.85, 420495.9, 422333.5, 423647.4, 424357.51, 423783.8, 421454.09, 423193.4, 423649.0, 424085.69, 423215.1, 422778.9, 422442.6, 422005.79, 421240.6, 421139.89, 420697.79, 420805.0, 420391.1, 420274.51, 420175.41, 419835.1, 419504.9, 419939.1, 419269.29, 418995.9, 419740.09, 422246.01, 419063.39, 418408.89, 421020.5, 419021.79, 422733.61, 416487.09, 423999.19, 424420.61, 424896.11, 417713.89, 418624.72, 416650.79, 416844.71, 424184.1, 423751.0, 423816.11, 424065.39, 423314.1, 422872.31, 424526.29, 423856.61, 417724.99, 420290.7, 415188.71, 415681.69, 416886.0, 416408.29, 418546.29, 420543.51, 422691.29, 413722.81, 416107.4, 418981.01, 418981.01, 424972.61, 418054.81, 418054.81, 417280.8, 418485.81, 418580.69, 418281.6, 418820.2, 417935.29, 418127.41, 417265.7, 417045.71, 417522.99, 419042.1, 419743.6, 417852.22, 419520.89, 419520.86, 419520.86, 419401.0, 418231.21, 417542.5, 421524.2, 418592.89, 416555.01, 424228.29, 424189.49, 420071.8, 423991.09, 423598.39, 423063.99, 422724.8, 420355.01, 418565.91, 418399.7, 416698.99, 416698.99, 419477.4, 418332.9, 419692.01, 419865.89, 416016.0, 419396.62, 415463.19, 415382.1, 419050.59, 419288.9, 418286.49, 418169.9, 418717.61, 418947.21, 418503.91, 418056.18, 418836.19, 419164.11, 418496.81, 419496.21, 418388.22, 417947.49, 417836.89, 419273.22, 419819.9, 419504.69, 419706.5, 419717.02, 419401.41, 419285.89, 420052.41, 419605.3, 419304.9, 419939.69, 418949.79, 420044.01, 419241.21, 419902.99, 419458.99, 419881.6, 419557.41, 418804.29, 418725.01, 419058.51, 418217.69, 415893.8, 415561.11, 416021.11, 415800.0, 417496.21, 417125.6, 420710.2, 416558.51, 416558.51, 424407.9, 417126.29, 416719.19, 420597.8, 416998.61, 417154.81, 416892.61, 416607.39, 423119.61, 419986.1, 416978.7, 420068.0, 416347.39, 414483.98, 416611.39, 416396.51, 416348.41, 421338.42, 416265.31, 420121.91, 423995.21, 420849.48, 419788.8, 420258.49, 423270.19, 420334.91, 419201.59, 422467.9, 421056.09, 422062.09, 418696.31, 420589.3, 421281.11, 421915.91, 418334.11, 421970.09, 420310.39, 422350.7, 421790.99, 420351.52, 422584.41, 421247.71, 419368.01, 420463.0, 420318.31, 420008.39, 421009.89, 420647.61, 420291.39, 420054.1, 420909.7, 420553.0, 421580.99, 420817.31, 421031.0, 420979.19, 421368.89, 422143.32, 421800.92, 422265.4, 421706.49, 421993.21, 422456.7, 421461.99, 421999.0, 422798.9, 420047.89, 420850.21, 421529.99, 417213.9, 420476.99, 422689.69, 420202.01, 421384.61, 419807.11, 421267.89, 421092.2, 419434.4, 420660.09, 420124.91, 419177.6, 419600.69, 420714.31, 419252.5, 420973.61, 419909.4, 421942.59, 420647.21, 419592.99, 422406.9, 420980.7, 418897.29, 420330.3, 417381.11, 419363.49, 419376.2, 420354.19, 420435.29, 421673.19, 420363.7, 419443.78, 418730.2, 419395.11, 419800.19, 421335.71, 421428.59, 418966.28, 417046.09, 419334.31, 418546.32, 419636.3, 421857.1, 421760.71, 418994.28, 416496.7, 420946.48, 418072.59, 419977.7, 421728.11, 418452.8, 422281.99, 420666.91, 419994.31, 421131.69, 420441.11, 419998.31, 421461.5, 417964.39, 418795.29, 422544.99, 421226.91, 416955.42, 422614.81, 422615.83, 422624.03, 422610.24, 422605.35, 422617.16, 422605.0, 422660.0, 420282.9, 418639.39, 421513.41, 422953.99, 417175.21, 420540.81, 416181.91, 420743.09, 420625.89, 423315.59, 421113.89, 420354.59, 420714.0, 423522.5, 421780.89, 419597.29, 423377.92, 423766.2, 422151.89, 419769.5, 423043.29, 423446.29, 419398.61, 424557.19, 424212.51, 424211.3, 419402.42, 424036.49, 423601.42, 419572.39, 423908.59, 422395.81, 416222.91, 416125.09, 418445.4, 415112.4, 415989.11, 416068.69, 419085.01, 418367.2, 418032.58, 419993.6, 419785.71, 418699.3, 418877.3, 419104.09, 420157.61, 415646.29, 419047.51, 418448.11, 418781.1, 422572.89, 422134.79, 422419.0, 421727.98, 422726.81, 420517.29, 422090.01, 421860.5, 421278.69, 422810.89, 423248.4, 420834.19, 424601.29, 423669.91, 420656.91, 423373.6, 420203.71, 423144.91, 419862.11, 423736.0, 423104.41, 421414.61, 424329.1, 420113.0, 418369.5, 418252.89, 424702.3, 418263.21, 418014.81, 417384.41, 425038.9, 417502.19, 417687.8, 417724.51, 417313.49, 417651.59, 418100.7, 417351.89, 421467.9, 416816.3, 416137.8, 417552.71, 418760.29, 415916.6, 423429.6, 417952.49, 424122.09, 422069.3, 414386.06, 419584.65, 417989.93, 421970.5, 417975.58, 420737.6, 420029.42], \"z\": [1590.0, 1620.9, 1553.0, 1565.0, 1544.0, 1528.0, 1584.8, 1545.0, 1535.5, 1531.4, 1542.3, 1575.3, 1557.2, 1573.7, 1578.2, 1579.6, 1585.7, 1585.9, 1583.9, 1612.3, 1607.3, 1613.9, 1608.8, 1592.2, 1590.4, 1606.5, 1617.0, 1543.4, 1608.5, 1591.9, 1563.2, 1607.0, 1567.2, 1597.9, 1529.5, 1548.0, 1528.0, 1593.1, 1604.2, 1599.4, 1598.0, 1531.0, 1530.0, 1540.0, 1558.0, 1538.0, 1538.7, 1535.4, 1528.8, 1624.0, 1606.0, 1602.0, 1596.0, 1596.0, 1613.0, 1601.0, 1589.0, 1547.1, 1600.0, 1609.0, 1595.3, 1595.3, 1552.0, 1592.5, 1592.5, 1601.0, 1591.8, 1597.7, 1593.1, 1591.1, 1601.5, 1591.9, 1601.5, 1597.0, 1597.3, 1594.9, 1595.2, 1604.6, 1589.0, 1589.0, 1589.0, 1597.9, 1609.4, 1611.2, 1597.0, 1611.0, 1603.0, 1535.0, 1535.0, 1581.0, 1533.0, 1557.0, 1531.0, 1551.4, 1588.8, 1604.0, 1598.0, 1613.0, 1613.0, 1588.0, 1624.0, 1589.0, 1564.0, 1597.0, 1590.0, 1596.0, 1600.0, 1602.0, 1586.0, 1615.0, 1605.0, 1606.0, 1602.0, 1596.6, 1616.0, 1601.0, 1602.0, 1610.0, 1587.0, 1605.0, 1621.0, 1613.0, 1587.0, 1574.0, 1588.2, 1566.0, 1585.0, 1585.0, 1584.1, 1584.0, 1577.7, 1597.2, 1594.3, 1599.0, 1589.0, 1579.6, 1586.0, 1586.0, 1584.0, 1584.0, 1604.0, 1594.8, 1588.9, 1633.0, 1595.5, 1603.6, 1604.9, 1596.0, 1602.9, 1593.1, 1597.8, 1617.2, 1617.2, 1529.5, 1611.0, 1618.0, 1588.5, 1606.0, 1621.0, 1610.0, 1604.0, 1569.3, 1578.0, 1598.0, 1586.5, 1619.0, 1602.0, 1599.2, 1599.6, 1597.7, 1609.2, 1596.0, 1589.1, 1528.2, 1581.4, 1584.7, 1586.3, 1563.4, 1586.6, 1589.5, 1562.5, 1586.0, 1568.9, 1590.6, 1595.1, 1580.9, 1595.0, 1594.0, 1588.0, 1590.0, 1589.0, 1566.0, 1579.6, 1573.0, 1597.0, 1586.0, 1581.0, 1587.0, 1599.0, 1559.0, 1590.0, 1594.0, 1586.0, 1588.0, 1583.1, 1598.0, 1598.0, 1589.0, 1589.0, 1591.8, 1596.0, 1595.9, 1580.0, 1601.8, 1585.0, 1575.0, 1591.0, 1596.0, 1576.0, 1572.4, 1590.1, 1586.9, 1593.8, 1589.5, 1574.1, 1589.2, 1600.4, 1598.1, 1586.6, 1571.8, 1599.3, 1581.4, 1610.1, 1602.9, 1589.9, 1588.7, 1595.5, 1579.0, 1586.0, 1587.1, 1576.5, 1588.8, 1570.8, 1570.0, 1599.5, 1579.6, 1611.2, 1609.5, 1610.1, 1610.8, 1593.0, 1564.7, 1609.5, 1589.8, 1609.7, 1604.7, 1583.2, 1560.1, 1596.6, 1603.3, 1606.9, 1591.5, 1604.4, 1602.4, 1584.5, 1594.6, 1590.5, 1608.0, 1592.1, 1610.0, 1595.4, 1591.5, 1606.4, 1574.7, 1579.7, 1610.7, 1583.3, 1577.3, 1611.8, 1571.0, 1607.0, 1592.7, 1550.6, 1562.7, 1608.7, 1564.8, 1563.3, 1564.2, 1563.2, 1562.9, 1563.2, 1562.2, 1553.9, 1584.2, 1589.7, 1553.4, 1545.8, 1633.3, 1589.0, 1607.7, 1578.1, 1588.2, 1529.8, 1571.3, 1613.7, 1591.5, 1548.8, 1584.8, 1612.3, 1545.7, 1566.1, 1562.4, 1619.8, 1536.1, 1531.2, 1609.6, 1530.5, 1530.7, 1531.8, 1609.7, 1531.8, 1529.0, 1603.0, 1528.5, 1567.3, 1596.3, 1597.4, 1590.4, 1595.6, 1597.6, 1595.1, 1597.8, 1592.0, 1594.5, 1608.7, 1608.2, 1590.4, 1598.6, 1590.4, 1609.0, 1599.5, 1610.3, 1600.8, 1605.0, 1565.6, 1573.3, 1560.8, 1565.2, 1543.1, 1573.8, 1552.2, 1558.7, 1560.3, 1550.5, 1555.8, 1576.2, 1532.3, 1533.8, 1590.0, 1542.8, 1578.4, 1541.4, 1583.4, 1532.9, 1554.6, 1559.2, 1528.3, 1579.4, 1623.1, 1619.7, 1535.2, 1623.2, 1602.0, 1602.3, 1535.9, 1623.1, 1612.5, 1619.0, 1621.2, 1626.9, 1607.4, 1610.3, 1561.9, 1608.5, 1594.1, 1603.6, 1618.5, 1596.8, 1562.5, 1611.2, 1538.6, 1572.8, 1595.0, 1550.0, 1602.6, 1595.0, 1600.1, 1586.9, 1587.7]}],\n",
       "                        {\"scene\": {\"aspectmode\": \"manual\", \"aspectratio\": {\"x\": 5, \"y\": 5, \"z\": 1}}, \"template\": {\"data\": {\"bar\": [{\"error_x\": {\"color\": \"#2a3f5f\"}, \"error_y\": {\"color\": \"#2a3f5f\"}, \"marker\": {\"line\": {\"color\": \"#E5ECF6\", \"width\": 0.5}}, \"type\": \"bar\"}], \"barpolar\": [{\"marker\": {\"line\": {\"color\": \"#E5ECF6\", \"width\": 0.5}}, \"type\": \"barpolar\"}], \"carpet\": [{\"aaxis\": {\"endlinecolor\": \"#2a3f5f\", \"gridcolor\": \"white\", \"linecolor\": \"white\", \"minorgridcolor\": \"white\", \"startlinecolor\": \"#2a3f5f\"}, \"baxis\": {\"endlinecolor\": \"#2a3f5f\", \"gridcolor\": \"white\", \"linecolor\": \"white\", \"minorgridcolor\": \"white\", \"startlinecolor\": \"#2a3f5f\"}, \"type\": \"carpet\"}], \"choropleth\": [{\"colorbar\": {\"outlinewidth\": 0, \"ticks\": \"\"}, \"type\": \"choropleth\"}], \"contour\": [{\"colorbar\": {\"outlinewidth\": 0, \"ticks\": \"\"}, \"colorscale\": [[0.0, \"#0d0887\"], [0.1111111111111111, \"#46039f\"], [0.2222222222222222, \"#7201a8\"], [0.3333333333333333, \"#9c179e\"], [0.4444444444444444, \"#bd3786\"], [0.5555555555555556, \"#d8576b\"], [0.6666666666666666, \"#ed7953\"], [0.7777777777777778, \"#fb9f3a\"], [0.8888888888888888, \"#fdca26\"], [1.0, \"#f0f921\"]], \"type\": \"contour\"}], \"contourcarpet\": [{\"colorbar\": {\"outlinewidth\": 0, \"ticks\": \"\"}, \"type\": \"contourcarpet\"}], \"heatmap\": [{\"colorbar\": {\"outlinewidth\": 0, \"ticks\": \"\"}, \"colorscale\": [[0.0, \"#0d0887\"], [0.1111111111111111, \"#46039f\"], [0.2222222222222222, \"#7201a8\"], [0.3333333333333333, \"#9c179e\"], [0.4444444444444444, \"#bd3786\"], [0.5555555555555556, \"#d8576b\"], [0.6666666666666666, \"#ed7953\"], [0.7777777777777778, \"#fb9f3a\"], [0.8888888888888888, \"#fdca26\"], [1.0, \"#f0f921\"]], \"type\": \"heatmap\"}], \"heatmapgl\": [{\"colorbar\": {\"outlinewidth\": 0, \"ticks\": \"\"}, \"colorscale\": [[0.0, \"#0d0887\"], [0.1111111111111111, \"#46039f\"], [0.2222222222222222, \"#7201a8\"], [0.3333333333333333, \"#9c179e\"], [0.4444444444444444, \"#bd3786\"], [0.5555555555555556, \"#d8576b\"], [0.6666666666666666, \"#ed7953\"], [0.7777777777777778, \"#fb9f3a\"], [0.8888888888888888, \"#fdca26\"], [1.0, \"#f0f921\"]], \"type\": \"heatmapgl\"}], \"histogram\": [{\"marker\": {\"colorbar\": {\"outlinewidth\": 0, \"ticks\": \"\"}}, \"type\": \"histogram\"}], \"histogram2d\": [{\"colorbar\": {\"outlinewidth\": 0, \"ticks\": \"\"}, \"colorscale\": [[0.0, \"#0d0887\"], [0.1111111111111111, \"#46039f\"], [0.2222222222222222, \"#7201a8\"], [0.3333333333333333, \"#9c179e\"], [0.4444444444444444, \"#bd3786\"], [0.5555555555555556, \"#d8576b\"], [0.6666666666666666, \"#ed7953\"], [0.7777777777777778, \"#fb9f3a\"], [0.8888888888888888, \"#fdca26\"], [1.0, \"#f0f921\"]], \"type\": \"histogram2d\"}], \"histogram2dcontour\": [{\"colorbar\": {\"outlinewidth\": 0, \"ticks\": \"\"}, \"colorscale\": [[0.0, \"#0d0887\"], [0.1111111111111111, \"#46039f\"], [0.2222222222222222, \"#7201a8\"], [0.3333333333333333, \"#9c179e\"], [0.4444444444444444, \"#bd3786\"], [0.5555555555555556, \"#d8576b\"], [0.6666666666666666, \"#ed7953\"], [0.7777777777777778, \"#fb9f3a\"], [0.8888888888888888, \"#fdca26\"], [1.0, \"#f0f921\"]], \"type\": \"histogram2dcontour\"}], \"mesh3d\": [{\"colorbar\": {\"outlinewidth\": 0, \"ticks\": \"\"}, \"type\": \"mesh3d\"}], \"parcoords\": [{\"line\": {\"colorbar\": {\"outlinewidth\": 0, \"ticks\": \"\"}}, \"type\": \"parcoords\"}], \"scatter\": [{\"marker\": {\"colorbar\": {\"outlinewidth\": 0, \"ticks\": \"\"}}, \"type\": \"scatter\"}], \"scatter3d\": [{\"line\": {\"colorbar\": {\"outlinewidth\": 0, \"ticks\": \"\"}}, \"marker\": {\"colorbar\": {\"outlinewidth\": 0, \"ticks\": \"\"}}, \"type\": \"scatter3d\"}], \"scattercarpet\": [{\"marker\": {\"colorbar\": {\"outlinewidth\": 0, \"ticks\": \"\"}}, \"type\": \"scattercarpet\"}], \"scattergeo\": [{\"marker\": {\"colorbar\": {\"outlinewidth\": 0, \"ticks\": \"\"}}, \"type\": \"scattergeo\"}], \"scattergl\": [{\"marker\": {\"colorbar\": {\"outlinewidth\": 0, \"ticks\": \"\"}}, \"type\": \"scattergl\"}], \"scattermapbox\": [{\"marker\": {\"colorbar\": {\"outlinewidth\": 0, \"ticks\": \"\"}}, \"type\": \"scattermapbox\"}], \"scatterpolar\": [{\"marker\": {\"colorbar\": {\"outlinewidth\": 0, \"ticks\": \"\"}}, \"type\": \"scatterpolar\"}], \"scatterpolargl\": [{\"marker\": {\"colorbar\": {\"outlinewidth\": 0, \"ticks\": \"\"}}, \"type\": \"scatterpolargl\"}], \"scatterternary\": [{\"marker\": {\"colorbar\": {\"outlinewidth\": 0, \"ticks\": \"\"}}, \"type\": \"scatterternary\"}], \"surface\": [{\"colorbar\": {\"outlinewidth\": 0, \"ticks\": \"\"}, \"colorscale\": [[0.0, \"#0d0887\"], [0.1111111111111111, \"#46039f\"], [0.2222222222222222, \"#7201a8\"], [0.3333333333333333, \"#9c179e\"], [0.4444444444444444, \"#bd3786\"], [0.5555555555555556, \"#d8576b\"], [0.6666666666666666, \"#ed7953\"], [0.7777777777777778, \"#fb9f3a\"], [0.8888888888888888, \"#fdca26\"], [1.0, \"#f0f921\"]], \"type\": \"surface\"}], \"table\": [{\"cells\": {\"fill\": {\"color\": \"#EBF0F8\"}, \"line\": {\"color\": \"white\"}}, \"header\": {\"fill\": {\"color\": \"#C8D4E3\"}, \"line\": {\"color\": \"white\"}}, \"type\": \"table\"}]}, \"layout\": {\"annotationdefaults\": {\"arrowcolor\": \"#2a3f5f\", \"arrowhead\": 0, \"arrowwidth\": 1}, \"colorscale\": {\"diverging\": [[0, \"#8e0152\"], [0.1, \"#c51b7d\"], [0.2, \"#de77ae\"], [0.3, \"#f1b6da\"], [0.4, \"#fde0ef\"], [0.5, \"#f7f7f7\"], [0.6, \"#e6f5d0\"], [0.7, \"#b8e186\"], [0.8, \"#7fbc41\"], [0.9, \"#4d9221\"], [1, \"#276419\"]], \"sequential\": [[0.0, \"#0d0887\"], [0.1111111111111111, \"#46039f\"], [0.2222222222222222, \"#7201a8\"], [0.3333333333333333, \"#9c179e\"], [0.4444444444444444, \"#bd3786\"], [0.5555555555555556, \"#d8576b\"], [0.6666666666666666, \"#ed7953\"], [0.7777777777777778, \"#fb9f3a\"], [0.8888888888888888, \"#fdca26\"], [1.0, \"#f0f921\"]], \"sequentialminus\": [[0.0, \"#0d0887\"], [0.1111111111111111, \"#46039f\"], [0.2222222222222222, \"#7201a8\"], [0.3333333333333333, \"#9c179e\"], [0.4444444444444444, \"#bd3786\"], [0.5555555555555556, \"#d8576b\"], [0.6666666666666666, \"#ed7953\"], [0.7777777777777778, \"#fb9f3a\"], [0.8888888888888888, \"#fdca26\"], [1.0, \"#f0f921\"]]}, \"colorway\": [\"#636efa\", \"#EF553B\", \"#00cc96\", \"#ab63fa\", \"#FFA15A\", \"#19d3f3\", \"#FF6692\", \"#B6E880\", \"#FF97FF\", \"#FECB52\"], \"font\": {\"color\": \"#2a3f5f\"}, \"geo\": {\"bgcolor\": \"white\", \"lakecolor\": \"white\", \"landcolor\": \"#E5ECF6\", \"showlakes\": true, \"showland\": true, \"subunitcolor\": \"white\"}, \"hoverlabel\": {\"align\": \"left\"}, \"hovermode\": \"closest\", \"mapbox\": {\"style\": \"light\"}, \"paper_bgcolor\": \"white\", \"plot_bgcolor\": \"#E5ECF6\", \"polar\": {\"angularaxis\": {\"gridcolor\": \"white\", \"linecolor\": \"white\", \"ticks\": \"\"}, \"bgcolor\": \"#E5ECF6\", \"radialaxis\": {\"gridcolor\": \"white\", \"linecolor\": \"white\", \"ticks\": \"\"}}, \"scene\": {\"xaxis\": {\"backgroundcolor\": \"#E5ECF6\", \"gridcolor\": \"white\", \"gridwidth\": 2, \"linecolor\": \"white\", \"showbackground\": true, \"ticks\": \"\", \"zerolinecolor\": \"white\"}, \"yaxis\": {\"backgroundcolor\": \"#E5ECF6\", \"gridcolor\": \"white\", \"gridwidth\": 2, \"linecolor\": \"white\", \"showbackground\": true, \"ticks\": \"\", \"zerolinecolor\": \"white\"}, \"zaxis\": {\"backgroundcolor\": \"#E5ECF6\", \"gridcolor\": \"white\", \"gridwidth\": 2, \"linecolor\": \"white\", \"showbackground\": true, \"ticks\": \"\", \"zerolinecolor\": \"white\"}}, \"shapedefaults\": {\"line\": {\"color\": \"#2a3f5f\"}}, \"ternary\": {\"aaxis\": {\"gridcolor\": \"white\", \"linecolor\": \"white\", \"ticks\": \"\"}, \"baxis\": {\"gridcolor\": \"white\", \"linecolor\": \"white\", \"ticks\": \"\"}, \"bgcolor\": \"#E5ECF6\", \"caxis\": {\"gridcolor\": \"white\", \"linecolor\": \"white\", \"ticks\": \"\"}}, \"title\": {\"x\": 0.05}, \"xaxis\": {\"automargin\": true, \"gridcolor\": \"white\", \"linecolor\": \"white\", \"ticks\": \"\", \"zerolinecolor\": \"white\", \"zerolinewidth\": 2}, \"yaxis\": {\"automargin\": true, \"gridcolor\": \"white\", \"linecolor\": \"white\", \"ticks\": \"\", \"zerolinecolor\": \"white\", \"zerolinewidth\": 2}}}},\n",
       "                        {\"responsive\": true}\n",
       "                    ).then(function(){\n",
       "                            \n",
       "var gd = document.getElementById('e36b9adb-f90e-4d65-96e6-993c8ed375ac');\n",
       "var x = new MutationObserver(function (mutations, observer) {{\n",
       "        var display = window.getComputedStyle(gd).display;\n",
       "        if (!display || display === 'none') {{\n",
       "            console.log([gd, 'removed!']);\n",
       "            Plotly.purge(gd);\n",
       "            observer.disconnect();\n",
       "        }}\n",
       "}});\n",
       "\n",
       "// Listen for the removal of the full notebook cells\n",
       "var notebookContainer = gd.closest('#notebook-container');\n",
       "if (notebookContainer) {{\n",
       "    x.observe(notebookContainer, {childList: true});\n",
       "}}\n",
       "\n",
       "// Listen for the clearing of the current output cell\n",
       "var outputEl = gd.closest('.output');\n",
       "if (outputEl) {{\n",
       "    x.observe(outputEl, {childList: true});\n",
       "}}\n",
       "\n",
       "                        })\n",
       "                };\n",
       "                });\n",
       "            </script>\n",
       "        </div>"
      ]
     },
     "metadata": {},
     "output_type": "display_data"
    }
   ],
   "source": [
    "import plotly.graph_objects as go\n",
    "\n",
    "fig = px.scatter_3d(babbitt_data['collar'], x='XCOLLAR', \n",
    "                    y='YCOLLAR', z='ZCOLLAR')\n",
    "\n",
    "# Helix equation\n",
    "t = np.linspace(0, 20, 100)\n",
    "x, y, z = np.cos(t), np.sin(t), t\n",
    "\n",
    "fig = go.Figure(data=[go.Scatter3d(\n",
    "    x=babbitt_data['collar']['XCOLLAR'],\n",
    "    y=babbitt_data['collar']['YCOLLAR'],\n",
    "    z=babbitt_data['collar']['ZCOLLAR'],\n",
    "    mode='markers',\n",
    "    marker=dict(\n",
    "        size=2,\n",
    "        opacity=0.8\n",
    "    )\n",
    ")])\n",
    "\n",
    "fig.update_layout(scene_aspectmode='manual',\n",
    "                  scene_aspectratio=dict(x=5, y=5, z=1))\n",
    "\n",
    "fig.show()"
   ]
  },
  {
   "cell_type": "code",
   "execution_count": 24,
   "metadata": {},
   "outputs": [
    {
     "data": {
      "text/plain": [
       "<matplotlib.axes._subplots.AxesSubplot at 0x1fbf6e3ca58>"
      ]
     },
     "execution_count": 24,
     "metadata": {},
     "output_type": "execute_result"
    },
    {
     "data": {
      "image/png": "[encoded data removed]",
      "text/plain": [
       "<Figure size 432x288 with 1 Axes>"
      ]
     },
     "metadata": {
      "needs_background": "light"
     },
     "output_type": "display_data"
    }
   ],
   "source": [
    "babbitt_data['survey']['AT'].hist(bins=range(0,3000,100))"
   ]
  },
  {
   "cell_type": "code",
   "execution_count": 31,
   "metadata": {},
   "outputs": [
    {
     "data": {
      "text/html": [
       "<div>\n",
       "<style scoped>\n",
       "    .dataframe tbody tr th:only-of-type {\n",
       "        vertical-align: middle;\n",
       "    }\n",
       "\n",
       "    .dataframe tbody tr th {\n",
       "        vertical-align: top;\n",
       "    }\n",
       "\n",
       "    .dataframe thead th {\n",
       "        text-align: right;\n",
       "    }\n",
       "</style>\n",
       "<table border=\"1\" class=\"dataframe\">\n",
       "  <thead>\n",
       "    <tr style=\"text-align: right;\">\n",
       "      <th></th>\n",
       "      <th>BHID</th>\n",
       "      <th>AT</th>\n",
       "      <th>AZ</th>\n",
       "      <th>DIP</th>\n",
       "    </tr>\n",
       "  </thead>\n",
       "  <tbody>\n",
       "    <tr>\n",
       "      <th>18</th>\n",
       "      <td>B1-010</td>\n",
       "      <td>0.0</td>\n",
       "      <td>0</td>\n",
       "      <td>90.0</td>\n",
       "    </tr>\n",
       "    <tr>\n",
       "      <th>19</th>\n",
       "      <td>B1-010</td>\n",
       "      <td>90000.0</td>\n",
       "      <td>0</td>\n",
       "      <td>90.0</td>\n",
       "    </tr>\n",
       "  </tbody>\n",
       "</table>\n",
       "</div>"
      ],
      "text/plain": [
       "      BHID       AT  AZ   DIP\n",
       "18  B1-010      0.0   0  90.0\n",
       "19  B1-010  90000.0   0  90.0"
      ]
     },
     "execution_count": 31,
     "metadata": {},
     "output_type": "execute_result"
    }
   ],
   "source": [
    "surv = babbitt_data['survey']\n",
    "surv[surv['BHID'] == 'B1-010']"
   ]
  }
 ],
 "metadata": {
  "kernelspec": {
   "display_name": "Python 3",
   "language": "python",
   "name": "python3"
  },
  "language_info": {
   "codemirror_mode": {
    "name": "ipython",
    "version": 3
   },
   "file_extension": ".py",
   "mimetype": "text/x-python",
   "name": "python",
   "nbconvert_exporter": "python",
   "pygments_lexer": "ipython3",
   "version": "3.7.3"
  }
 },
 "nbformat": 4,
 "nbformat_minor": 2
}
